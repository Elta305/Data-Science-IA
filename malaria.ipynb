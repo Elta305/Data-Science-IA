{
 "cells": [
  {
   "cell_type": "code",
   "execution_count": 1,
   "metadata": {},
   "outputs": [
    {
     "name": "stderr",
     "output_type": "stream",
     "text": [
      "c:\\Users\\fredl\\anaconda3\\envs\\tensorflowgpu\\lib\\site-packages\\tqdm\\auto.py:21: TqdmWarning: IProgress not found. Please update jupyter and ipywidgets. See https://ipywidgets.readthedocs.io/en/stable/user_install.html\n",
      "  from .autonotebook import tqdm as notebook_tqdm\n"
     ]
    }
   ],
   "source": [
    "import tensorflow as tf\n",
    "import numpy as np\n",
    "import matplotlib.pyplot as plt\n",
    "import cv2\n",
    "import sklearn\n",
    "from sklearn.metrics import confusion_matrix, roc_curve\n",
    "import seaborn as sns\n",
    "import datetime\n",
    "import io\n",
    "import os\n",
    "import wandb\n",
    "from wandb.keras import WandbCallback\n",
    "import random\n",
    "import tensorflow_datasets as tfds\n",
    "import tensorflow_probability as tfp\n",
    "from tensorflow.keras.models import Model\n",
    "from tensorflow.keras.layers import Layer, Conv2D, MaxPool2D, Dense, InputLayer, Flatten, BatchNormalization, Input, Dropout, RandomFlip, RandomRotation, RandomContrast, Resizing, Rescaling\n",
    "from tensorflow.keras.losses import BinaryCrossentropy\n",
    "from tensorflow.keras.metrics import BinaryAccuracy, FalsePositives, FalseNegatives, TruePositives, TrueNegatives, Precision, Recall, AUC, binary_accuracy\n",
    "from tensorflow.keras.optimizers import Adam\n",
    "from tensorflow.keras.callbacks import Callback, CSVLogger, EarlyStopping, LearningRateScheduler, ModelCheckpoint, ReduceLROnPlateau\n",
    "from tensorflow.keras.regularizers import L2, L1\n",
    "from tensorboard.plugins.hparams import api as hp"
   ]
  },
  {
   "attachments": {},
   "cell_type": "markdown",
   "metadata": {},
   "source": [
    "### Wandb Login, Initialization and Configuration"
   ]
  },
  {
   "cell_type": "code",
   "execution_count": 2,
   "metadata": {},
   "outputs": [
    {
     "name": "stderr",
     "output_type": "stream",
     "text": [
      "wandb: Currently logged in as: fredlicombeau. Use `wandb login --relogin` to force relogin\n"
     ]
    }
   ],
   "source": [
    "!wandb login"
   ]
  },
  {
   "cell_type": "code",
   "execution_count": 3,
   "metadata": {},
   "outputs": [
    {
     "name": "stderr",
     "output_type": "stream",
     "text": [
      "Failed to detect the name of this notebook, you can set it manually with the WANDB_NOTEBOOK_NAME environment variable to enable code saving.\n",
      "\u001b[34m\u001b[1mwandb\u001b[0m: Currently logged in as: \u001b[33mfredlicombeau\u001b[0m. Use \u001b[1m`wandb login --relogin`\u001b[0m to force relogin\n"
     ]
    },
    {
     "data": {
      "text/html": [
       "Tracking run with wandb version 0.15.4"
      ],
      "text/plain": [
       "<IPython.core.display.HTML object>"
      ]
     },
     "metadata": {},
     "output_type": "display_data"
    },
    {
     "data": {
      "text/html": [
       "Run data is saved locally in <code>c:\\Users\\fredl\\Documents\\Projet_Orion\\Machine Learning\\Deep Learning\\Malaria\\wandb\\run-20230704_152348-tchvvttu</code>"
      ],
      "text/plain": [
       "<IPython.core.display.HTML object>"
      ]
     },
     "metadata": {},
     "output_type": "display_data"
    },
    {
     "data": {
      "text/html": [
       "Syncing run <strong><a href='https://wandb.ai/fredlicombeau/Detection-de-la-Malaria/runs/tchvvttu' target=\"_blank\">charmed-salad-9</a></strong> to <a href='https://wandb.ai/fredlicombeau/Detection-de-la-Malaria' target=\"_blank\">Weights & Biases</a> (<a href='https://wandb.me/run' target=\"_blank\">docs</a>)<br/>"
      ],
      "text/plain": [
       "<IPython.core.display.HTML object>"
      ]
     },
     "metadata": {},
     "output_type": "display_data"
    },
    {
     "data": {
      "text/html": [
       " View project at <a href='https://wandb.ai/fredlicombeau/Detection-de-la-Malaria' target=\"_blank\">https://wandb.ai/fredlicombeau/Detection-de-la-Malaria</a>"
      ],
      "text/plain": [
       "<IPython.core.display.HTML object>"
      ]
     },
     "metadata": {},
     "output_type": "display_data"
    },
    {
     "data": {
      "text/html": [
       " View run at <a href='https://wandb.ai/fredlicombeau/Detection-de-la-Malaria/runs/tchvvttu' target=\"_blank\">https://wandb.ai/fredlicombeau/Detection-de-la-Malaria/runs/tchvvttu</a>"
      ],
      "text/plain": [
       "<IPython.core.display.HTML object>"
      ]
     },
     "metadata": {},
     "output_type": "display_data"
    },
    {
     "data": {
      "text/html": [
       "<button onClick=\"this.nextSibling.style.display='block';this.style.display='none';\">Display W&B run</button><iframe src='https://wandb.ai/fredlicombeau/Detection-de-la-Malaria/runs/tchvvttu?jupyter=true' style='border:none;width:100%;height:420px;display:none;'></iframe>"
      ],
      "text/plain": [
       "<wandb.sdk.wandb_run.Run at 0x24c6c3989a0>"
      ]
     },
     "execution_count": 3,
     "metadata": {},
     "output_type": "execute_result"
    }
   ],
   "source": [
    "# wandb.tensorboard.patch(root_logdir=\"./logs\")\n",
    "wandb.init(project=\"Detection-de-la-Malaria\", entity=\"fredlicombeau\", sync_tensorboard=True)"
   ]
  },
  {
   "cell_type": "code",
   "execution_count": 4,
   "metadata": {},
   "outputs": [],
   "source": [
    "wandb.config = {\n",
    "    \"LEARNING_RATE\": 0.001,\n",
    "    \"N_EPOCHS\": 3,\n",
    "    \"BATCH_SIZE\": 128,\n",
    "    \"DROPOUT_RATE\": 0.0,\n",
    "    \"IM_SIZE\": 224,\n",
    "    \"REGULARIZATION_RATE\": 0.0,\n",
    "    \"N_FILTERS\": 6,\n",
    "    \"KERNEL_SIZE\": 3,\n",
    "    \"N_STRIDES\": 1,\n",
    "    \"POOL_SIZE\": 2,\n",
    "    \"N_DENSE_1\": 128,\n",
    "    \"N_DENSE_2\": 32\n",
    "}\n",
    "CONFIGURATION = wandb.config"
   ]
  },
  {
   "attachments": {},
   "cell_type": "markdown",
   "metadata": {},
   "source": [
    "### Data Loading"
   ]
  },
  {
   "cell_type": "code",
   "execution_count": 5,
   "metadata": {},
   "outputs": [],
   "source": [
    "dataset, dataset_info = tfds.load('malaria', with_info=True, as_supervised=True, shuffle_files=True, split=['train'])"
   ]
  },
  {
   "cell_type": "code",
   "execution_count": 6,
   "metadata": {},
   "outputs": [],
   "source": [
    "def splits(dataset, TRAIN_RATIO, VAL_RATIO, TEST_RATIO):\n",
    "    DATASET_SIZE = len(dataset)\n",
    "    train_dataset = dataset.take(int(TRAIN_RATIO*DATASET_SIZE))\n",
    "    val_test_dataset = dataset.skip(int(TRAIN_RATIO*DATASET_SIZE))\n",
    "    val_dataset = val_test_dataset.take(int(VAL_RATIO*DATASET_SIZE))\n",
    "    test_dataset = val_test_dataset.skip(int(VAL_RATIO*DATASET_SIZE))\n",
    "    return train_dataset, val_dataset, test_dataset"
   ]
  },
  {
   "cell_type": "code",
   "execution_count": 7,
   "metadata": {},
   "outputs": [],
   "source": [
    "TRAIN_RATIO = 0.8\n",
    "VAL_RATIO = 0.1\n",
    "TEST_RATIO = 0.1\n",
    "\n",
    "# dataset = tf.data.Dataset.range(10)\n",
    "train_dataset, val_dataset, test_dataset = splits(dataset[0], TRAIN_RATIO, VAL_RATIO, TEST_RATIO)\n",
    "# print(list(train_dataset.take(1).as_numpy_iterator()), list(val_dataset.take(1).as_numpy_iterator()), list(test_dataset.take(1).as_numpy_iterator()))"
   ]
  },
  {
   "attachments": {},
   "cell_type": "markdown",
   "metadata": {},
   "source": [
    "### Dataset Infos"
   ]
  },
  {
   "cell_type": "code",
   "execution_count": null,
   "metadata": {},
   "outputs": [],
   "source": [
    "for data in dataset[0].take(4):\n",
    "    print(data)"
   ]
  },
  {
   "cell_type": "code",
   "execution_count": null,
   "metadata": {},
   "outputs": [],
   "source": [
    "dataset_info"
   ]
  },
  {
   "attachments": {},
   "cell_type": "markdown",
   "metadata": {},
   "source": [
    "# Data Visualization"
   ]
  },
  {
   "cell_type": "code",
   "execution_count": 54,
   "metadata": {},
   "outputs": [
    {
     "name": "stderr",
     "output_type": "stream",
     "text": [
      "Exception ignored in: <function ZipFile.__del__ at 0x0000021403D9D5A0>\n",
      "Traceback (most recent call last):\n",
      "  File \"c:\\Users\\fredl\\anaconda3\\envs\\tensorflowgpu\\lib\\zipfile.py\", line 1821, in __del__\n",
      "    self.close()\n",
      "  File \"c:\\Users\\fredl\\anaconda3\\envs\\tensorflowgpu\\lib\\zipfile.py\", line 1838, in close\n",
      "    self.fp.seek(self.start_dir)\n",
      "ValueError: seek of closed file\n"
     ]
    },
    {
     "data": {
      "image/png": "[encoded data removed]",
      "text/plain": [
       "<Figure size 640x480 with 16 Axes>"
      ]
     },
     "metadata": {},
     "output_type": "display_data"
    }
   ],
   "source": [
    "for i, (image, label) in enumerate(train_dataset.take(16)):\n",
    "    ax = plt.subplot(4, 4, i+1)\n",
    "    plt.imshow(image)\n",
    "    plt.title(dataset_info.features['label'].int2str(label))\n",
    "    plt.axis('off')"
   ]
  },
  {
   "attachments": {},
   "cell_type": "markdown",
   "metadata": {},
   "source": [
    "## Data Preprocessing"
   ]
  },
  {
   "attachments": {},
   "cell_type": "markdown",
   "metadata": {},
   "source": [
    "### Data Augmentation"
   ]
  },
  {
   "cell_type": "code",
   "execution_count": 55,
   "metadata": {},
   "outputs": [],
   "source": [
    "def visualize(original, augmented):\n",
    "    plt.subplot(1, 2, 1)\n",
    "    plt.imshow(original)\n",
    "\n",
    "    plt.subplot(1, 2, 2)\n",
    "    plt.imshow(augmented)"
   ]
  },
  {
   "cell_type": "code",
   "execution_count": 56,
   "metadata": {},
   "outputs": [],
   "source": [
    "original_image, label = next(iter(train_dataset))"
   ]
  },
  {
   "cell_type": "code",
   "execution_count": 57,
   "metadata": {},
   "outputs": [],
   "source": [
    "augmented_image = tf.image.central_crop(original_image, 0.8)"
   ]
  },
  {
   "cell_type": "code",
   "execution_count": 58,
   "metadata": {},
   "outputs": [
    {
     "data": {
      "image/png": "[encoded data removed]",
      "text/plain": [
       "<Figure size 640x480 with 2 Axes>"
      ]
     },
     "metadata": {},
     "output_type": "display_data"
    }
   ],
   "source": [
    "visualize(original_image, augmented_image)"
   ]
  },
  {
   "cell_type": "code",
   "execution_count": 8,
   "metadata": {},
   "outputs": [],
   "source": [
    "IM_SIZE = 224\n",
    "@tf.function\n",
    "def resize_rescale(image, label):\n",
    "    return tf.image.resize(image, (IM_SIZE, IM_SIZE))/255.0, label"
   ]
  },
  {
   "cell_type": "code",
   "execution_count": 9,
   "metadata": {},
   "outputs": [],
   "source": [
    "# tf.keras.layer resizing and rescaling\n",
    "resize_rescale_layers = tf.keras.Sequential([\n",
    "    Resizing(IM_SIZE, IM_SIZE),\n",
    "    Rescaling(1./255),\n",
    "])"
   ]
  },
  {
   "cell_type": "code",
   "execution_count": 10,
   "metadata": {},
   "outputs": [],
   "source": [
    "# tf.image augment\n",
    "@tf.function\n",
    "def augment(image, label):\n",
    "    image, label = resize_rescale(image, label)\n",
    "\n",
    "    image = tf.image.rot90(image) #, k=tf.random.uniform(shape=[], minval=0, maxval=2, dtype=tf.int32))\n",
    "    image = tf.image.flip_left_right(image) # tf.image.stateless_random_flip_left_right(image)\n",
    "\n",
    "    return image, label"
   ]
  },
  {
   "cell_type": "code",
   "execution_count": 11,
   "metadata": {},
   "outputs": [],
   "source": [
    "class RotNinety(Layer):\n",
    "    def __init__(self):\n",
    "        super().__init__()\n",
    "\n",
    "    @tf.function\n",
    "    def call(self, image):\n",
    "        return tf.image.rot90(image, k=tf.random.uniform(shape=[], minval=0, maxval=2, dtype=tf.int32))"
   ]
  },
  {
   "cell_type": "code",
   "execution_count": 12,
   "metadata": {},
   "outputs": [],
   "source": [
    "# tf.keras.layer augment\n",
    "augment_layers = tf.keras.Sequential([\n",
    "    RotNinety(),\n",
    "    RandomFlip(mode='horizontal')\n",
    "    # RandomRotation(factor=(0.25, 0.2501))\n",
    "    # RandomFlip(mode='horizontal')\n",
    "    # RandomContrast(factor=0.1)\n",
    "])\n",
    "\n",
    "@tf.function\n",
    "def augment_layer(image, label):\n",
    "    return augment_layers(resize_rescale_layers(image), training=True), label"
   ]
  },
  {
   "cell_type": "code",
   "execution_count": 13,
   "metadata": {},
   "outputs": [],
   "source": [
    "# test_dataset = test_dataset.map(resize_rescale_layers)"
   ]
  },
  {
   "cell_type": "code",
   "execution_count": 14,
   "metadata": {},
   "outputs": [],
   "source": [
    "# for image, label in train_dataset.take(1):\n",
    "#     print(image, label)"
   ]
  },
  {
   "attachments": {},
   "cell_type": "markdown",
   "metadata": {},
   "source": [
    "### Mixup Data Augmentation"
   ]
  },
  {
   "cell_type": "code",
   "execution_count": null,
   "metadata": {},
   "outputs": [],
   "source": [
    "train_dataset_1 = train_dataset.shuffle(buffer_size=8, reshuffle_each_iteration=True).map(resize_rescale)\n",
    "train_dataset_2 = train_dataset.shuffle(buffer_size=8, reshuffle_each_iteration=True).map(resize_rescale)\n",
    "\n",
    "mixed_dataset = tf.data.Dataset.zip((train_dataset_1, train_dataset_2))"
   ]
  },
  {
   "cell_type": "code",
   "execution_count": null,
   "metadata": {},
   "outputs": [],
   "source": [
    "def mixup(train_dataset_1, train_dataset_2):\n",
    "    (image_1, label_1), (image_2, label_2) = train_dataset_1, train_dataset_2\n",
    "\n",
    "    lamda = tfp.distributions.Beta(0.2, 0.2)\n",
    "    lamda = lamda.sample(1)[0]\n",
    "\n",
    "    image = lamda * image_1 + (1-lamda) * image_2\n",
    "    label = lamda * tf.cast(label_1, dtype=tf.float32) + (1-lamda) * tf.cast(label_2, dtype=tf.float32)\n",
    "    \n",
    "    return image, label"
   ]
  },
  {
   "attachments": {},
   "cell_type": "markdown",
   "metadata": {},
   "source": [
    "La stratégie de mixup n'est pas concluante dans ce cas"
   ]
  },
  {
   "attachments": {},
   "cell_type": "markdown",
   "metadata": {},
   "source": [
    "### CutMix Data Augmentation"
   ]
  },
  {
   "cell_type": "code",
   "execution_count": null,
   "metadata": {},
   "outputs": [],
   "source": [
    "def box(lamda):\n",
    "    r_x = tf.cast(tfp.distributions.Uniform(0, IM_SIZE).sample(1)[0], dtype=tf.int32)\n",
    "    r_y = tf.cast(tfp.distributions.Uniform(0, IM_SIZE).sample(1)[0], dtype=tf.int32)\n",
    "\n",
    "    r_w = tf.cast(IM_SIZE*tf.math.sqrt(1-lamda), dtype=tf.int32)\n",
    "    r_h = tf.cast(IM_SIZE*tf.math.sqrt(1-lamda), dtype=tf.int32)\n",
    "    \n",
    "    r_x = tf.clip_by_value(r_x - r_w//2, 0, IM_SIZE)\n",
    "    r_y = tf.clip_by_value(r_y - r_h//2, 0, IM_SIZE)\n",
    "\n",
    "    x_b_r = tf.clip_by_value(r_x + r_w//2, 0, IM_SIZE)\n",
    "    y_b_r = tf.clip_by_value(r_y + r_h//2, 0, IM_SIZE)\n",
    "\n",
    "    r_w = x_b_r - r_x\n",
    "    if r_w == 0:\n",
    "        r_w = 1\n",
    "\n",
    "    r_h = y_b_r - r_y\n",
    "    if r_h == 0:\n",
    "        r_h = 1\n",
    "    \n",
    "    return r_y, r_x, r_h, r_w"
   ]
  },
  {
   "cell_type": "code",
   "execution_count": null,
   "metadata": {},
   "outputs": [],
   "source": [
    "def cutmix(train_dataset_1, train_dataset_2):\n",
    "    (image_1, label_1), (image_2, label_2) = train_dataset_1, train_dataset_2\n",
    "\n",
    "    lamda = tfp.distributions.Beta(0.2, 0.2)\n",
    "    lamda = lamda.sample(1)[0]\n",
    "    \n",
    "    r_y, r_x, r_h, r_w = box(lamda)\n",
    "\n",
    "    crop_2 = tf.image.crop_to_bounding_box(image_2, r_y, r_x, r_h, r_w)\n",
    "    pad_2 = tf.image.pad_to_bounding_box(crop_2, r_y, r_x, IM_SIZE, IM_SIZE)\n",
    "\n",
    "    crop_1 = tf.image.crop_to_bounding_box(image_1, r_y, r_x, r_h, r_w)\n",
    "    pad_1 = tf.image.pad_to_bounding_box(crop_1, r_y, r_x, IM_SIZE, IM_SIZE)\n",
    "\n",
    "    image = image_1 - pad_1 + pad_2\n",
    "\n",
    "    lamda = tf.cast(1 - (r_w*r_h)/(IM_SIZE*IM_SIZE), dtype=tf.float32)\n",
    "    label = lamda * tf.cast(label_1, dtype=tf.float32) + (1-lamda) * tf.cast(label_2, dtype=tf.float32)\n",
    "\n",
    "    return image, label"
   ]
  },
  {
   "cell_type": "code",
   "execution_count": null,
   "metadata": {},
   "outputs": [],
   "source": [
    "original_image, label = next(iter(train_dataset))\n",
    "print(label)\n",
    "plt.imshow(original_image[0])"
   ]
  },
  {
   "attachments": {},
   "cell_type": "markdown",
   "metadata": {},
   "source": [
    "La stratégie CutMix n'est pas adaptée pour ce modèle"
   ]
  },
  {
   "attachments": {},
   "cell_type": "markdown",
   "metadata": {},
   "source": [
    "### Data Loading"
   ]
  },
  {
   "cell_type": "code",
   "execution_count": 15,
   "metadata": {},
   "outputs": [],
   "source": [
    "BATCH_SIZE = 32\n",
    "# train_dataset = (train_dataset\n",
    "#                  .shuffle(buffer_size=1024, reshuffle_each_iteration=True)\n",
    "#                  .map(augment_layer) # .map(augment)\n",
    "#                  .batch(BATCH_SIZE)\n",
    "#                  .prefetch(tf.data.AUTOTUNE))\n",
    "# train_dataset = (mixed_dataset\n",
    "#                  .shuffle(buffer_size=8, reshuffle_each_iteration=True)\n",
    "#                 #  .map(mixup)\n",
    "#                  .map(cutmix)\n",
    "#                  .batch(1)\n",
    "#                  .prefetch(tf.data.AUTOTUNE))"
   ]
  },
  {
   "cell_type": "code",
   "execution_count": 16,
   "metadata": {},
   "outputs": [],
   "source": [
    "# val_dataset = (val_dataset\n",
    "#                .shuffle(buffer_size=32)\n",
    "#                .map(resize_rescale)\n",
    "#                .batch(BATCH_SIZE))"
   ]
  },
  {
   "cell_type": "code",
   "execution_count": 17,
   "metadata": {},
   "outputs": [],
   "source": [
    "# print(train_dataset)\n",
    "# print(val_dataset)"
   ]
  },
  {
   "cell_type": "code",
   "execution_count": 18,
   "metadata": {},
   "outputs": [],
   "source": [
    "test_dataset = test_dataset.map(resize_rescale, num_parallel_calls = tf.data.AUTOTUNE)\n",
    "train_dataset = (\n",
    "    train_dataset\n",
    "    .shuffle(buffer_size = 1024, reshuffle_each_iteration = True)\n",
    "    .map(augment_layer, num_parallel_calls = tf.data.AUTOTUNE)\n",
    "    .batch(BATCH_SIZE)\n",
    "    .prefetch(tf.data.AUTOTUNE)\n",
    ")\n",
    "val_dataset = (\n",
    "    val_dataset\n",
    "    .shuffle(buffer_size = 32)\n",
    "    .map(resize_rescale, num_parallel_calls = tf.data.AUTOTUNE)\n",
    "    .batch(BATCH_SIZE)\n",
    ")"
   ]
  },
  {
   "attachments": {},
   "cell_type": "markdown",
   "metadata": {},
   "source": [
    "## WandB Dataset Versioning"
   ]
  },
  {
   "attachments": {},
   "cell_type": "markdown",
   "metadata": {},
   "source": [
    "### WandB Data Loading"
   ]
  },
  {
   "cell_type": "code",
   "execution_count": 32,
   "metadata": {},
   "outputs": [
    {
     "name": "stdout",
     "output_type": "stream",
     "text": [
      "[<PrefetchDataset element_spec=(TensorSpec(shape=(None, None, 3), dtype=tf.uint8, name=None), TensorSpec(shape=(), dtype=tf.int64, name=None))>]\n"
     ]
    }
   ],
   "source": [
    "dataset, dataset_info = tfds.load('malaria', with_info=True, as_supervised=True, shuffle_files = True, split=['train'])\n",
    "\n",
    "print(dataset)"
   ]
  },
  {
   "cell_type": "code",
   "execution_count": 33,
   "metadata": {},
   "outputs": [
    {
     "ename": "ValueError",
     "evalue": "setting an array element with a sequence. The requested array has an inhomogeneous shape after 1 dimensions. The detected shape was (2,) + inhomogeneous part.",
     "output_type": "error",
     "traceback": [
      "\u001b[1;31m---------------------------------------------------------------------------\u001b[0m",
      "\u001b[1;31mValueError\u001b[0m                                Traceback (most recent call last)",
      "Cell \u001b[1;32mIn[33], line 4\u001b[0m\n\u001b[0;32m      2\u001b[0m \u001b[39mfor\u001b[39;00m data \u001b[39min\u001b[39;00m dataset[\u001b[39m0\u001b[39m]:\n\u001b[0;32m      3\u001b[0m     \u001b[39mwith\u001b[39;00m \u001b[39mopen\u001b[39m(\u001b[39m'\u001b[39m\u001b[39mdataset/malaria_dataset_\u001b[39m\u001b[39m'\u001b[39m\u001b[39m+\u001b[39m\u001b[39mstr\u001b[39m(k) \u001b[39m+\u001b[39m \u001b[39m'\u001b[39m\u001b[39m.npz\u001b[39m\u001b[39m'\u001b[39m, mode \u001b[39m=\u001b[39m \u001b[39m'\u001b[39m\u001b[39mwb\u001b[39m\u001b[39m'\u001b[39m) \u001b[39mas\u001b[39;00m file:\n\u001b[1;32m----> 4\u001b[0m         np\u001b[39m.\u001b[39;49msavez(file, data)\n\u001b[0;32m      5\u001b[0m     k \u001b[39m+\u001b[39m\u001b[39m=\u001b[39m \u001b[39m1\u001b[39m\n\u001b[0;32m      6\u001b[0m     \u001b[39mif\u001b[39;00m(k\u001b[39m%\u001b[39m\u001b[39m1000\u001b[39m \u001b[39m==\u001b[39m \u001b[39m0\u001b[39m):\n",
      "File \u001b[1;32m<__array_function__ internals>:200\u001b[0m, in \u001b[0;36msavez\u001b[1;34m(*args, **kwargs)\u001b[0m\n",
      "File \u001b[1;32mc:\\Users\\fredl\\anaconda3\\envs\\tensorflowgpu\\lib\\site-packages\\numpy\\lib\\npyio.py:615\u001b[0m, in \u001b[0;36msavez\u001b[1;34m(file, *args, **kwds)\u001b[0m\n\u001b[0;32m    531\u001b[0m \u001b[39m@array_function_dispatch\u001b[39m(_savez_dispatcher)\n\u001b[0;32m    532\u001b[0m \u001b[39mdef\u001b[39;00m \u001b[39msavez\u001b[39m(file, \u001b[39m*\u001b[39margs, \u001b[39m*\u001b[39m\u001b[39m*\u001b[39mkwds):\n\u001b[0;32m    533\u001b[0m \u001b[39m    \u001b[39m\u001b[39m\"\"\"Save several arrays into a single file in uncompressed ``.npz`` format.\u001b[39;00m\n\u001b[0;32m    534\u001b[0m \n\u001b[0;32m    535\u001b[0m \u001b[39m    Provide arrays as keyword arguments to store them under the\u001b[39;00m\n\u001b[1;32m   (...)\u001b[0m\n\u001b[0;32m    613\u001b[0m \n\u001b[0;32m    614\u001b[0m \u001b[39m    \"\"\"\u001b[39;00m\n\u001b[1;32m--> 615\u001b[0m     _savez(file, args, kwds, \u001b[39mFalse\u001b[39;49;00m)\n",
      "File \u001b[1;32mc:\\Users\\fredl\\anaconda3\\envs\\tensorflowgpu\\lib\\site-packages\\numpy\\lib\\npyio.py:716\u001b[0m, in \u001b[0;36m_savez\u001b[1;34m(file, args, kwds, compress, allow_pickle, pickle_kwargs)\u001b[0m\n\u001b[0;32m    714\u001b[0m \u001b[39mfor\u001b[39;00m key, val \u001b[39min\u001b[39;00m namedict\u001b[39m.\u001b[39mitems():\n\u001b[0;32m    715\u001b[0m     fname \u001b[39m=\u001b[39m key \u001b[39m+\u001b[39m \u001b[39m'\u001b[39m\u001b[39m.npy\u001b[39m\u001b[39m'\u001b[39m\n\u001b[1;32m--> 716\u001b[0m     val \u001b[39m=\u001b[39m np\u001b[39m.\u001b[39;49masanyarray(val)\n\u001b[0;32m    717\u001b[0m     \u001b[39m# always force zip64, gh-10776\u001b[39;00m\n\u001b[0;32m    718\u001b[0m     \u001b[39mwith\u001b[39;00m zipf\u001b[39m.\u001b[39mopen(fname, \u001b[39m'\u001b[39m\u001b[39mw\u001b[39m\u001b[39m'\u001b[39m, force_zip64\u001b[39m=\u001b[39m\u001b[39mTrue\u001b[39;00m) \u001b[39mas\u001b[39;00m fid:\n",
      "\u001b[1;31mValueError\u001b[0m: setting an array element with a sequence. The requested array has an inhomogeneous shape after 1 dimensions. The detected shape was (2,) + inhomogeneous part."
     ]
    }
   ],
   "source": [
    "k = 0\n",
    "for data in dataset[0]:\n",
    "    with open('dataset/malaria_dataset_'+str(k) + '.npz', mode = 'wb') as file:\n",
    "        np.savez(file, data)\n",
    "    k += 1\n",
    "    if(k%1000 == 0):\n",
    "        print(k)"
   ]
  },
  {
   "cell_type": "code",
   "execution_count": 34,
   "metadata": {},
   "outputs": [],
   "source": [
    "def load_original_data():\n",
    "    with wandb.init(project=\"Detection-de-la-Malaria\", entity=\"fredlicombeau\") as run:\n",
    "        original_data = wandb.Artifact(\n",
    "            name = \"new_dataset\", \n",
    "            type=\"raw_data\",\n",
    "            description = \"The Malaria dataset contains a total of 27,558 cell images with equal instances of parasitized and uninfected cells from the thin blood smear slide images of segmented cells.\",\n",
    "            metadata = {\"source\": \"TFDS\",\n",
    "                        \"homepage\": \"https://lhncbc.nlm.nih.gov/publication/pub9932\",\n",
    "                        \"source_code\": \"tfds.image_classification.Malaria\",\n",
    "                        \"version\": \"1.0.0\",\n",
    "                        \"download_size\": \"337.08 MiB\",\n",
    "                        }\n",
    "        )\n",
    "        \n",
    "        original_data.add_dir('dataset/')\n",
    "\n",
    "        run.log_artifact(original_data)"
   ]
  },
  {
   "cell_type": "code",
   "execution_count": 35,
   "metadata": {},
   "outputs": [
    {
     "data": {
      "text/html": [
       "Tracking run with wandb version 0.15.4"
      ],
      "text/plain": [
       "<IPython.core.display.HTML object>"
      ]
     },
     "metadata": {},
     "output_type": "display_data"
    },
    {
     "data": {
      "text/html": [
       "Run data is saved locally in <code>c:\\Users\\fredl\\Documents\\Projet_Orion\\Machine Learning\\Deep Learning\\Malaria\\wandb\\run-20230704_152947-nfy4gkb4</code>"
      ],
      "text/plain": [
       "<IPython.core.display.HTML object>"
      ]
     },
     "metadata": {},
     "output_type": "display_data"
    },
    {
     "data": {
      "text/html": [
       "Syncing run <strong><a href='https://wandb.ai/fredlicombeau/Detection-de-la-Malaria/runs/nfy4gkb4' target=\"_blank\">valiant-snowball-16</a></strong> to <a href='https://wandb.ai/fredlicombeau/Detection-de-la-Malaria' target=\"_blank\">Weights & Biases</a> (<a href='https://wandb.me/run' target=\"_blank\">docs</a>)<br/>"
      ],
      "text/plain": [
       "<IPython.core.display.HTML object>"
      ]
     },
     "metadata": {},
     "output_type": "display_data"
    },
    {
     "data": {
      "text/html": [
       " View project at <a href='https://wandb.ai/fredlicombeau/Detection-de-la-Malaria' target=\"_blank\">https://wandb.ai/fredlicombeau/Detection-de-la-Malaria</a>"
      ],
      "text/plain": [
       "<IPython.core.display.HTML object>"
      ]
     },
     "metadata": {},
     "output_type": "display_data"
    },
    {
     "data": {
      "text/html": [
       " View run at <a href='https://wandb.ai/fredlicombeau/Detection-de-la-Malaria/runs/nfy4gkb4' target=\"_blank\">https://wandb.ai/fredlicombeau/Detection-de-la-Malaria/runs/nfy4gkb4</a>"
      ],
      "text/plain": [
       "<IPython.core.display.HTML object>"
      ]
     },
     "metadata": {},
     "output_type": "display_data"
    },
    {
     "name": "stderr",
     "output_type": "stream",
     "text": [
      "\u001b[34m\u001b[1mwandb\u001b[0m: Adding directory to artifact (.\\dataset)... Done. 0.0s\n"
     ]
    },
    {
     "data": {
      "text/html": [
       "Waiting for W&B process to finish... <strong style=\"color:green\">(success).</strong>"
      ],
      "text/plain": [
       "<IPython.core.display.HTML object>"
      ]
     },
     "metadata": {},
     "output_type": "display_data"
    },
    {
     "data": {
      "text/html": [
       " View run <strong style=\"color:#cdcd00\">valiant-snowball-16</strong> at: <a href='https://wandb.ai/fredlicombeau/Detection-de-la-Malaria/runs/nfy4gkb4' target=\"_blank\">https://wandb.ai/fredlicombeau/Detection-de-la-Malaria/runs/nfy4gkb4</a><br/>Synced 5 W&B file(s), 0 media file(s), 0 artifact file(s) and 0 other file(s)"
      ],
      "text/plain": [
       "<IPython.core.display.HTML object>"
      ]
     },
     "metadata": {},
     "output_type": "display_data"
    },
    {
     "data": {
      "text/html": [
       "Find logs at: <code>.\\wandb\\run-20230704_152947-nfy4gkb4\\logs</code>"
      ],
      "text/plain": [
       "<IPython.core.display.HTML object>"
      ]
     },
     "metadata": {},
     "output_type": "display_data"
    }
   ],
   "source": [
    "load_original_data()"
   ]
  },
  {
   "attachments": {},
   "cell_type": "markdown",
   "metadata": {},
   "source": [
    "### WandB Data Preprocessing"
   ]
  },
  {
   "cell_type": "code",
   "execution_count": 36,
   "metadata": {},
   "outputs": [
    {
     "data": {
      "text/html": [
       "Tracking run with wandb version 0.15.4"
      ],
      "text/plain": [
       "<IPython.core.display.HTML object>"
      ]
     },
     "metadata": {},
     "output_type": "display_data"
    },
    {
     "data": {
      "text/html": [
       "Run data is saved locally in <code>c:\\Users\\fredl\\Documents\\Projet_Orion\\Machine Learning\\Deep Learning\\Malaria\\wandb\\run-20230704_153030-zwacc4mu</code>"
      ],
      "text/plain": [
       "<IPython.core.display.HTML object>"
      ]
     },
     "metadata": {},
     "output_type": "display_data"
    },
    {
     "data": {
      "text/html": [
       "Syncing run <strong><a href='https://wandb.ai/fredlicombeau/Detection-de-la-Malaria/runs/zwacc4mu' target=\"_blank\">snowy-voice-17</a></strong> to <a href='https://wandb.ai/fredlicombeau/Detection-de-la-Malaria' target=\"_blank\">Weights & Biases</a> (<a href='https://wandb.me/run' target=\"_blank\">docs</a>)<br/>"
      ],
      "text/plain": [
       "<IPython.core.display.HTML object>"
      ]
     },
     "metadata": {},
     "output_type": "display_data"
    },
    {
     "data": {
      "text/html": [
       " View project at <a href='https://wandb.ai/fredlicombeau/Detection-de-la-Malaria' target=\"_blank\">https://wandb.ai/fredlicombeau/Detection-de-la-Malaria</a>"
      ],
      "text/plain": [
       "<IPython.core.display.HTML object>"
      ]
     },
     "metadata": {},
     "output_type": "display_data"
    },
    {
     "data": {
      "text/html": [
       " View run at <a href='https://wandb.ai/fredlicombeau/Detection-de-la-Malaria/runs/zwacc4mu' target=\"_blank\">https://wandb.ai/fredlicombeau/Detection-de-la-Malaria/runs/zwacc4mu</a>"
      ],
      "text/plain": [
       "<IPython.core.display.HTML object>"
      ]
     },
     "metadata": {},
     "output_type": "display_data"
    },
    {
     "name": "stderr",
     "output_type": "stream",
     "text": [
      "\u001b[34m\u001b[1mwandb\u001b[0m:   1 of 1 files downloaded.  \n"
     ]
    },
    {
     "data": {
      "text/html": [
       "Waiting for W&B process to finish... <strong style=\"color:green\">(success).</strong>"
      ],
      "text/plain": [
       "<IPython.core.display.HTML object>"
      ]
     },
     "metadata": {},
     "output_type": "display_data"
    },
    {
     "data": {
      "text/html": [
       " View run <strong style=\"color:#cdcd00\">snowy-voice-17</strong> at: <a href='https://wandb.ai/fredlicombeau/Detection-de-la-Malaria/runs/zwacc4mu' target=\"_blank\">https://wandb.ai/fredlicombeau/Detection-de-la-Malaria/runs/zwacc4mu</a><br/>Synced 5 W&B file(s), 0 media file(s), 0 artifact file(s) and 0 other file(s)"
      ],
      "text/plain": [
       "<IPython.core.display.HTML object>"
      ]
     },
     "metadata": {},
     "output_type": "display_data"
    },
    {
     "data": {
      "text/html": [
       "Find logs at: <code>.\\wandb\\run-20230704_153030-zwacc4mu\\logs</code>"
      ],
      "text/plain": [
       "<IPython.core.display.HTML object>"
      ]
     },
     "metadata": {},
     "output_type": "display_data"
    }
   ],
   "source": [
    "with wandb.init(project=\"Detection-de-la-Malaria\", entity=\"fredlicombeau\") as run:    \n",
    "    artifact = run.use_artifact('fredlicombeau/Detection-de-la-Malaria/new_dataset:v0', type='raw_data')\n",
    "    artifact_dir = artifact.download()"
   ]
  },
  {
   "cell_type": "code",
   "execution_count": 37,
   "metadata": {},
   "outputs": [],
   "source": [
    "def resize_rescale(image):\n",
    "    return tf.image.resize(image, (IM_SIZE, IM_SIZE))/255.0"
   ]
  },
  {
   "cell_type": "code",
   "execution_count": 42,
   "metadata": {},
   "outputs": [],
   "source": [
    "def preprocess_data():\n",
    "    with wandb.init(project=\"Detection-de-la-Malaria\", entity=\"fredlicombeau\") as run:\n",
    "\n",
    "        artifact = run.use_artifact('fredlicombeau/Detection-de-la-Malaria/new_dataset:v0', type='raw_data')\n",
    "        artifact_dir = artifact.download()\n",
    "\n",
    "        preprocessed_data = wandb.Artifact(\n",
    "            name = \"preprocessed_dataset\", \n",
    "            type=\"preprocessed_data\",\n",
    "            description = \"A Preprocessed version of the Malaria dataset\",\n",
    "        )\n",
    "\n",
    "        artifact_directory = \"artifacts/new_dataset-v0/\"\n",
    "\n",
    "        dataset_x = []\n",
    "        dataset_y = []\n",
    "        \n",
    "        for f in os.listdir(artifact_directory)[:1000]:\n",
    "            with open(artifact_directory + f, 'rb') as file:\n",
    "                npz_array = np.load(file, allow_pickle = True)\n",
    "                \n",
    "                x,y = npz_array.f.arr_0\n",
    "\n",
    "                dataset_x.append(resize_rescale(x))\n",
    "                dataset_y.append(y)\n",
    "            \n",
    "        # dataset = tf.data.Dataset.from_tensor_slices((dataset_x, dataset_y))\n",
    "\n",
    "        with preprocessed_data.new_file(\"prep_dataset.npz\", mode = \"wb\") as file:\n",
    "            np.savez(file, [dataset_x, dataset_y])\n",
    "        run.log_artifact(preprocessed_data)"
   ]
  },
  {
   "cell_type": "code",
   "execution_count": 43,
   "metadata": {},
   "outputs": [
    {
     "data": {
      "text/html": [
       "Tracking run with wandb version 0.15.4"
      ],
      "text/plain": [
       "<IPython.core.display.HTML object>"
      ]
     },
     "metadata": {},
     "output_type": "display_data"
    },
    {
     "data": {
      "text/html": [
       "Run data is saved locally in <code>c:\\Users\\fredl\\Documents\\Projet_Orion\\Machine Learning\\Deep Learning\\Malaria\\wandb\\run-20230704_153614-dotgkyiy</code>"
      ],
      "text/plain": [
       "<IPython.core.display.HTML object>"
      ]
     },
     "metadata": {},
     "output_type": "display_data"
    },
    {
     "data": {
      "text/html": [
       "Syncing run <strong><a href='https://wandb.ai/fredlicombeau/Detection-de-la-Malaria/runs/dotgkyiy' target=\"_blank\">bumbling-snowflake-20</a></strong> to <a href='https://wandb.ai/fredlicombeau/Detection-de-la-Malaria' target=\"_blank\">Weights & Biases</a> (<a href='https://wandb.me/run' target=\"_blank\">docs</a>)<br/>"
      ],
      "text/plain": [
       "<IPython.core.display.HTML object>"
      ]
     },
     "metadata": {},
     "output_type": "display_data"
    },
    {
     "data": {
      "text/html": [
       " View project at <a href='https://wandb.ai/fredlicombeau/Detection-de-la-Malaria' target=\"_blank\">https://wandb.ai/fredlicombeau/Detection-de-la-Malaria</a>"
      ],
      "text/plain": [
       "<IPython.core.display.HTML object>"
      ]
     },
     "metadata": {},
     "output_type": "display_data"
    },
    {
     "data": {
      "text/html": [
       " View run at <a href='https://wandb.ai/fredlicombeau/Detection-de-la-Malaria/runs/dotgkyiy' target=\"_blank\">https://wandb.ai/fredlicombeau/Detection-de-la-Malaria/runs/dotgkyiy</a>"
      ],
      "text/plain": [
       "<IPython.core.display.HTML object>"
      ]
     },
     "metadata": {},
     "output_type": "display_data"
    },
    {
     "name": "stderr",
     "output_type": "stream",
     "text": [
      "\u001b[34m\u001b[1mwandb\u001b[0m:   1 of 1 files downloaded.  \n"
     ]
    },
    {
     "data": {
      "text/html": [
       "Waiting for W&B process to finish... <strong style=\"color:red\">(failed 1).</strong> Press Ctrl-C to abort syncing."
      ],
      "text/plain": [
       "<IPython.core.display.HTML object>"
      ]
     },
     "metadata": {},
     "output_type": "display_data"
    },
    {
     "data": {
      "text/html": [
       " View run <strong style=\"color:#cdcd00\">bumbling-snowflake-20</strong> at: <a href='https://wandb.ai/fredlicombeau/Detection-de-la-Malaria/runs/dotgkyiy' target=\"_blank\">https://wandb.ai/fredlicombeau/Detection-de-la-Malaria/runs/dotgkyiy</a><br/>Synced 5 W&B file(s), 0 media file(s), 0 artifact file(s) and 0 other file(s)"
      ],
      "text/plain": [
       "<IPython.core.display.HTML object>"
      ]
     },
     "metadata": {},
     "output_type": "display_data"
    },
    {
     "data": {
      "text/html": [
       "Find logs at: <code>.\\wandb\\run-20230704_153614-dotgkyiy\\logs</code>"
      ],
      "text/plain": [
       "<IPython.core.display.HTML object>"
      ]
     },
     "metadata": {},
     "output_type": "display_data"
    },
    {
     "ename": "UnpicklingError",
     "evalue": "Failed to interpret file <_io.BufferedReader name='artifacts/new_dataset-v0/malaria_dataset_0.npz'> as a pickle",
     "output_type": "error",
     "traceback": [
      "\u001b[1;31m---------------------------------------------------------------------------\u001b[0m",
      "\u001b[1;31mEOFError\u001b[0m                                  Traceback (most recent call last)",
      "File \u001b[1;32mc:\\Users\\fredl\\anaconda3\\envs\\tensorflowgpu\\lib\\site-packages\\numpy\\lib\\npyio.py:441\u001b[0m, in \u001b[0;36mload\u001b[1;34m(file, mmap_mode, allow_pickle, fix_imports, encoding, max_header_size)\u001b[0m\n\u001b[0;32m    440\u001b[0m \u001b[39mtry\u001b[39;00m:\n\u001b[1;32m--> 441\u001b[0m     \u001b[39mreturn\u001b[39;00m pickle\u001b[39m.\u001b[39mload(fid, \u001b[39m*\u001b[39m\u001b[39m*\u001b[39mpickle_kwargs)\n\u001b[0;32m    442\u001b[0m \u001b[39mexcept\u001b[39;00m \u001b[39mException\u001b[39;00m \u001b[39mas\u001b[39;00m e:\n",
      "\u001b[1;31mEOFError\u001b[0m: Ran out of input",
      "\nThe above exception was the direct cause of the following exception:\n",
      "\u001b[1;31mUnpicklingError\u001b[0m                           Traceback (most recent call last)",
      "Cell \u001b[1;32mIn[43], line 1\u001b[0m\n\u001b[1;32m----> 1\u001b[0m preprocess_data()\n",
      "Cell \u001b[1;32mIn[42], line 20\u001b[0m, in \u001b[0;36mpreprocess_data\u001b[1;34m()\u001b[0m\n\u001b[0;32m     18\u001b[0m \u001b[39mfor\u001b[39;00m f \u001b[39min\u001b[39;00m os\u001b[39m.\u001b[39mlistdir(artifact_directory)[:\u001b[39m1000\u001b[39m]:\n\u001b[0;32m     19\u001b[0m     \u001b[39mwith\u001b[39;00m \u001b[39mopen\u001b[39m(artifact_directory \u001b[39m+\u001b[39m f, \u001b[39m'\u001b[39m\u001b[39mrb\u001b[39m\u001b[39m'\u001b[39m) \u001b[39mas\u001b[39;00m file:\n\u001b[1;32m---> 20\u001b[0m         npz_array \u001b[39m=\u001b[39m np\u001b[39m.\u001b[39;49mload(file, allow_pickle \u001b[39m=\u001b[39;49m \u001b[39mTrue\u001b[39;49;00m)\n\u001b[0;32m     22\u001b[0m         x,y \u001b[39m=\u001b[39m npz_array\u001b[39m.\u001b[39mf\u001b[39m.\u001b[39marr_0\n\u001b[0;32m     24\u001b[0m         dataset_x\u001b[39m.\u001b[39mappend(resize_rescale(x))\n",
      "File \u001b[1;32mc:\\Users\\fredl\\anaconda3\\envs\\tensorflowgpu\\lib\\site-packages\\numpy\\lib\\npyio.py:443\u001b[0m, in \u001b[0;36mload\u001b[1;34m(file, mmap_mode, allow_pickle, fix_imports, encoding, max_header_size)\u001b[0m\n\u001b[0;32m    441\u001b[0m     \u001b[39mreturn\u001b[39;00m pickle\u001b[39m.\u001b[39mload(fid, \u001b[39m*\u001b[39m\u001b[39m*\u001b[39mpickle_kwargs)\n\u001b[0;32m    442\u001b[0m \u001b[39mexcept\u001b[39;00m \u001b[39mException\u001b[39;00m \u001b[39mas\u001b[39;00m e:\n\u001b[1;32m--> 443\u001b[0m     \u001b[39mraise\u001b[39;00m pickle\u001b[39m.\u001b[39mUnpicklingError(\n\u001b[0;32m    444\u001b[0m         \u001b[39mf\u001b[39m\u001b[39m\"\u001b[39m\u001b[39mFailed to interpret file \u001b[39m\u001b[39m{\u001b[39;00mfile\u001b[39m!r}\u001b[39;00m\u001b[39m as a pickle\u001b[39m\u001b[39m\"\u001b[39m) \u001b[39mfrom\u001b[39;00m \u001b[39me\u001b[39;00m\n",
      "\u001b[1;31mUnpicklingError\u001b[0m: Failed to interpret file <_io.BufferedReader name='artifacts/new_dataset-v0/malaria_dataset_0.npz'> as a pickle"
     ]
    }
   ],
   "source": [
    "preprocess_data()"
   ]
  },
  {
   "attachments": {},
   "cell_type": "markdown",
   "metadata": {},
   "source": [
    "### WandB Data Splitting"
   ]
  },
  {
   "cell_type": "code",
   "execution_count": null,
   "metadata": {},
   "outputs": [],
   "source": [
    "run = wandb.init()\n",
    "artifact = run.use_artifact('fredlicombeau/Detection-de-la-Malaria/preprocessed_dataset:v2', type='preprocessed_data')\n",
    "artifact_dir = artifact.download()"
   ]
  },
  {
   "cell_type": "code",
   "execution_count": null,
   "metadata": {},
   "outputs": [],
   "source": [
    "def split_data():\n",
    "    with wandb.init(project=\"Detection-de-la-Malaria\", entity=\"fredlicombeau\") as run:\n",
    "\n",
    "        artifact = run.use_artifact('fredlicombeau/Detection-de-la-Malaria/preprocessed_dataset:v2', type='preprocessed_data')\n",
    "        artifact_dir = artifact.download()\n",
    "\n",
    "        train_data = wandb.Artifact(\n",
    "            name = \"train_dataset\", \n",
    "            type=\"preprocessed_data\",\n",
    "            description = \"Training dataset\",\n",
    "        )\n",
    "        val_data = wandb.Artifact(\n",
    "            name = \"val_dataset\", \n",
    "            type=\"preprocessed_data\",\n",
    "            description = \"Validation dataset\",        \n",
    "        )\n",
    "        test_data = wandb.Artifact(\n",
    "            name = \"test_dataset\", \n",
    "            type=\"preprocessed_data\",\n",
    "            description = \"Test dataset\",\n",
    "                \n",
    "            )\n",
    "        \n",
    "        artifact_file = \"artifacts/preprocessed_dataset:v2/prep_dataset.npz\"\n",
    "\n",
    "        with open(artifact_file, 'rb') as file:\n",
    "            npz_arr = np.load(file, allow_pickle = True)\n",
    "            arr = npz_arr.f.arr_0\n",
    "\n",
    "        train_split = 0.8\n",
    "        val_split = 0.1\n",
    "        test_split = 0.1\n",
    "        \n",
    "        data_len = len(arr[0])\n",
    "\n",
    "        train_arr = [arr[0][0:int(train_split*data_len)], arr[1][0:int(train_split*data_len)]]\n",
    "        val_arr = [arr[0][int(train_split*data_len):int((train_split+val_split)*data_len)], arr[1][int(train_split*data_len):int((train_split+val_split)*data_len)] ]\n",
    "        test_arr = [arr[0][int((train_split+val_split)*data_len):], arr[1][int((train_split+val_split)*data_len):] ]\n",
    "        \n",
    "        \n",
    "        with train_data.new_file(\"train_dataset.npz\", mode = \"wb\") as file:\n",
    "            np.savez(file, train_arr)\n",
    "            \n",
    "        with val_data.new_file(\"val_dataset.npz\", mode = \"wb\") as file:\n",
    "            np.savez(file, val_arr)\n",
    "            \n",
    "        with test_data.new_file(\"test_dataset.npz\", mode = \"wb\") as file:\n",
    "            np.savez(file, test_arr)\n",
    "            \n",
    "\n",
    "        run.log_artifact(train_data)  \n",
    "        run.log_artifact(val_data)      \n",
    "        run.log_artifact(test_data)"
   ]
  },
  {
   "cell_type": "code",
   "execution_count": null,
   "metadata": {},
   "outputs": [],
   "source": [
    "split_data()"
   ]
  },
  {
   "attachments": {},
   "cell_type": "markdown",
   "metadata": {},
   "source": [
    "### WandB Data Augmentation"
   ]
  },
  {
   "cell_type": "code",
   "execution_count": null,
   "metadata": {},
   "outputs": [],
   "source": [
    "def augment(image):\n",
    "    image = tf.image.rot90(image)\n",
    "    image = tf.image.flip_left_right(image)\n",
    "\n",
    "    return image"
   ]
  },
  {
   "cell_type": "code",
   "execution_count": null,
   "metadata": {},
   "outputs": [],
   "source": [
    "def augment_data():\n",
    "    with wandb.init(project=\"Detection-de-la-Malaria\", entity=\"fredlicombeau\") as run:\n",
    "        artifact = run.use_artifact('fredlicombeau/Detection-de-la-Malaria/train_dataset:v0', type='preprocessed_data')\n",
    "        artifact_dir = artifact.download()\n",
    "\n",
    "        augmented_data = wandb.Artifact(\n",
    "            name = \"Augmented_dataset\", \n",
    "            type=\"preprocessed_data\",\n",
    "            description = \"An Augmented version of the Malaria train dataset\",\n",
    "        )\n",
    "\n",
    "        artifact_file = \"artifacts/train_dataset:v0/train_dataset.npz\"\n",
    "        \n",
    "        dataset_x = []\n",
    "\n",
    "        with open(artifact_file, 'rb') as file:\n",
    "            npz_array = np.load(file, allow_pickle = True)\n",
    "            \n",
    "            arr = npz_array.f.arr_0\n",
    "\n",
    "            for im in arr[0]:\n",
    "                dataset_x.append(augment(im))\n",
    "                dataset_y = arr[1]\n",
    "\n",
    "        with augmented_data.new_file(\"aug_dataset.npz\", mode = \"wb\") as file:\n",
    "            np.savez(file, [dataset_x, dataset_y])\n",
    "        run.log_artifact(augmented_data)"
   ]
  },
  {
   "cell_type": "code",
   "execution_count": null,
   "metadata": {},
   "outputs": [],
   "source": [
    "augment_data()"
   ]
  },
  {
   "attachments": {},
   "cell_type": "markdown",
   "metadata": {},
   "source": [
    "# Model Creation"
   ]
  },
  {
   "attachments": {},
   "cell_type": "markdown",
   "metadata": {},
   "source": [
    "### Sequential"
   ]
  },
  {
   "cell_type": "code",
   "execution_count": null,
   "metadata": {},
   "outputs": [],
   "source": [
    "dropout_rate = 0.2\n",
    "regularization_rate = 0.01\n",
    "lenet_model = tf.keras.Sequential([\n",
    "    InputLayer(input_shape = (IM_SIZE, IM_SIZE, 3)),\n",
    "    # InputLayer(input_shape=(None, None, 3)),\n",
    "\n",
    "    # resize_rescale_layers,\n",
    "    # augment_layers,\n",
    "\n",
    "    Conv2D(filters=6, kernel_size=3, strides=1, padding='valid', activation=\"relu\", kernel_regularizer=L2(regularization_rate)),\n",
    "    BatchNormalization(),\n",
    "    MaxPool2D(pool_size=2, strides=2),\n",
    "    Dropout(rate=dropout_rate),\n",
    "\n",
    "    Conv2D(filters=16, kernel_size=3, strides=1, padding='valid', activation=\"relu\", kernel_regularizer=L2(regularization_rate)),\n",
    "    BatchNormalization(),\n",
    "    MaxPool2D(pool_size=2, strides=2),\n",
    "\n",
    "    Flatten(),\n",
    "\n",
    "    Dense(100, activation=\"relu\", kernel_regularizer=L2(regularization_rate)),\n",
    "    BatchNormalization(),\n",
    "    Dropout(rate=dropout_rate),\n",
    "\n",
    "    Dense(10, activation=\"relu\", kernel_regularizer=L2(regularization_rate)),\n",
    "    BatchNormalization(),\n",
    "\n",
    "    Dense(1, activation=\"sigmoid\")\n",
    "])\n",
    "\n",
    "lenet_model.summary()"
   ]
  },
  {
   "attachments": {},
   "cell_type": "markdown",
   "metadata": {},
   "source": [
    "### Wandb Sequential"
   ]
  },
  {
   "cell_type": "code",
   "execution_count": null,
   "metadata": {},
   "outputs": [],
   "source": [
    "CONFIGURATION = wandb.config\n",
    "\n",
    "IM_SIZE = CONFIGURATION['IM_SIZE']\n",
    "DROPOUT_RATE = CONFIGURATION['DROPOUT_RATE']\n",
    "REGULARIZATION_RATE = CONFIGURATION['REGULARIZATION_RATE']\n",
    "N_FILTERS = CONFIGURATION['N_FILTERS']\n",
    "KERNEL_SIZE = CONFIGURATION['KERNEL_SIZE']\n",
    "POOL_SIZE = CONFIGURATION['POOL_SIZE']\n",
    "N_STRIDES = CONFIGURATION['N_STRIDES']\n",
    "\n",
    "lenet_model = tf.keras.Sequential([\n",
    "    InputLayer(input_shape = (IM_SIZE, IM_SIZE, 3)),\n",
    "    # InputLayer(input_shape=(None, None, 3)),\n",
    "\n",
    "    # resize_rescale_layers,\n",
    "    # augment_layers,\n",
    "\n",
    "    Conv2D(filters=N_FILTERS, kernel_size=KERNEL_SIZE, strides=N_STRIDES, padding='valid', activation=\"relu\", kernel_regularizer=L2(REGULARIZATION_RATE)),\n",
    "    BatchNormalization(),\n",
    "    MaxPool2D(pool_size=POOL_SIZE, strides=2*N_STRIDES),\n",
    "    Dropout(rate=DROPOUT_RATE),\n",
    "\n",
    "    Conv2D(filters=2*N_FILTERS+4, kernel_size=KERNEL_SIZE, strides=N_STRIDES, padding='valid', activation=\"relu\", kernel_regularizer=L2(REGULARIZATION_RATE)),\n",
    "    BatchNormalization(),\n",
    "    MaxPool2D(pool_size=POOL_SIZE, strides=2*N_STRIDES),\n",
    "\n",
    "    Flatten(),\n",
    "\n",
    "    Dense(CONFIGURATION['N_DENSE_1'], activation=\"relu\", kernel_regularizer=L2(REGULARIZATION_RATE)),\n",
    "    BatchNormalization(),\n",
    "    Dropout(rate=DROPOUT_RATE),\n",
    "\n",
    "    Dense(CONFIGURATION['N_DENSE_2'], activation=\"relu\", kernel_regularizer=L2(REGULARIZATION_RATE)),\n",
    "    BatchNormalization(),\n",
    "\n",
    "    Dense(1, activation=\"sigmoid\")\n",
    "])\n",
    "\n",
    "lenet_model.summary()"
   ]
  },
  {
   "attachments": {},
   "cell_type": "markdown",
   "metadata": {},
   "source": [
    "### Fonctional"
   ]
  },
  {
   "cell_type": "code",
   "execution_count": null,
   "metadata": {},
   "outputs": [],
   "source": [
    "feature_extractor_seq_model = tf.keras.Sequential([\n",
    "    InputLayer(input_shape=(IM_SIZE, IM_SIZE, 3)),\n",
    "\n",
    "    Conv2D(filters=6, kernel_size=3, strides=1, padding='valid', activation=\"relu\"),\n",
    "    BatchNormalization(),\n",
    "    MaxPool2D(pool_size=2, strides=2),\n",
    "    \n",
    "    Conv2D(filters=16, kernel_size=3, strides=1, padding='valid', activation=\"relu\"),\n",
    "    BatchNormalization(),\n",
    "    MaxPool2D(pool_size=2, strides=2)\n",
    "])\n",
    "\n",
    "feature_extractor_seq_model.summary()"
   ]
  },
  {
   "cell_type": "code",
   "execution_count": null,
   "metadata": {},
   "outputs": [],
   "source": [
    "func_input = Input(shape=(IM_SIZE, IM_SIZE, 3), name='Input Image')\n",
    "\n",
    "x = Conv2D(filters=6, kernel_size=3, strides=1, padding='valid', activation=\"relu\")(func_input)\n",
    "x = BatchNormalization()(x)\n",
    "x = MaxPool2D(pool_size=2, strides=2)(x)\n",
    "\n",
    "x = Conv2D(filters=16, kernel_size=3, strides=1, padding='valid', activation=\"relu\")(x)\n",
    "x = BatchNormalization()(x)\n",
    "output = MaxPool2D(pool_size=2, strides=2)(x)\n",
    "\n",
    "feature_extractor_model = Model(func_input, output, name='Feature_Extractor')\n",
    "feature_extractor_model.summary()"
   ]
  },
  {
   "cell_type": "code",
   "execution_count": null,
   "metadata": {},
   "outputs": [],
   "source": [
    "func_input = Input(shape=(IM_SIZE, IM_SIZE, 3), name='Input Image')\n",
    "\n",
    "# x = feature_extractor_model(func_input)\n",
    "# Can be replaced by :\n",
    "x = feature_extractor_seq_model(func_input)\n",
    "x = Flatten()(x)\n",
    "\n",
    "x = Dense(100, activation=\"relu\")(x)\n",
    "x = BatchNormalization()(x)\n",
    "\n",
    "x = Dense(10, activation=\"relu\")(x)\n",
    "x = BatchNormalization()(x)\n",
    "\n",
    "func_output = Dense(1, activation=\"sigmoid\")(x)\n",
    "\n",
    "lenet_model_func = Model(func_input, func_output, name='Lenet_Model')\n",
    "lenet_model_func.summary()"
   ]
  },
  {
   "attachments": {},
   "cell_type": "markdown",
   "metadata": {},
   "source": [
    "### Model Subclassing"
   ]
  },
  {
   "cell_type": "code",
   "execution_count": null,
   "metadata": {},
   "outputs": [],
   "source": [
    "class FeatureExtractor(Layer):\n",
    "    def __init__(self, filters, kernel_size, strides, padding, activation, pool_size):\n",
    "        super(FeatureExtractor, self).__init__()\n",
    "\n",
    "        self.conv_1 = Conv2D(filters=filters, kernel_size=kernel_size, strides=strides, padding=padding, activation=activation)\n",
    "        self.batch_1 = BatchNormalization()\n",
    "        self.pool_1 = MaxPool2D(pool_size=pool_size, strides=2*strides)\n",
    "\n",
    "        self.conv_2 = Conv2D(filters=filters*2, kernel_size=kernel_size, strides=strides, padding=padding, activation=activation)\n",
    "        self.batch_2 = BatchNormalization()\n",
    "        self.pool_2 = MaxPool2D(pool_size=pool_size, strides=2*strides)\n",
    "\n",
    "    def call(self, x):\n",
    "        x = self.conv_1(x)\n",
    "        x = self.batch_1(x)\n",
    "        x = self.pool_1(x)\n",
    "\n",
    "        x = self.conv_2(x)\n",
    "        x = self.batch_2(x)\n",
    "        x = self.pool_2(x)\n",
    "\n",
    "        return x\n",
    "\n",
    "feature_sub_classed = FeatureExtractor(8, 3, 1, \"valid\", \"relu\", 2)"
   ]
  },
  {
   "cell_type": "code",
   "execution_count": null,
   "metadata": {},
   "outputs": [],
   "source": [
    "func_input = Input(shape=(IM_SIZE, IM_SIZE, 3), name='Input Image')\n",
    "\n",
    "x = feature_sub_classed(func_input)\n",
    "\n",
    "x = Flatten()(x)\n",
    "\n",
    "x = Dense(100, activation=\"relu\")(x)\n",
    "x = BatchNormalization()(x)\n",
    "\n",
    "x = Dense(10, activation=\"relu\")(x)\n",
    "x = BatchNormalization()(x)\n",
    "\n",
    "func_output = Dense(1, activation=\"sigmoid\")(x)\n",
    "\n",
    "lenet_model_func = Model(func_input, func_output, name='Lenet_Model')\n",
    "lenet_model_func.summary()"
   ]
  },
  {
   "cell_type": "code",
   "execution_count": null,
   "metadata": {},
   "outputs": [],
   "source": [
    "class LenetModel(Model):\n",
    "    def __init__(self):\n",
    "        super(LenetModel, self).__init__()\n",
    "\n",
    "        self.feature_extractor = feature_sub_classed = FeatureExtractor(8, 3, 1, \"valid\", \"relu\", 2)\n",
    "\n",
    "        self.flatten = Flatten()\n",
    "\n",
    "        self.dense_1 = Dense(100, activation=\"relu\")\n",
    "        self.batch_1 = BatchNormalization()\n",
    "\n",
    "        self.dense_2 = Dense(100, activation=\"relu\")\n",
    "        self.batch_2 = BatchNormalization()\n",
    "\n",
    "        self.dense_3 = Dense(1, activation=\"sigmoid\")\n",
    "\n",
    "    def call(self, x):\n",
    "        x = self.feature_extractor(x)\n",
    "\n",
    "        x = self.flatten(x)\n",
    "        x = self.dense_1(x)\n",
    "        x = self.batch_1(x)\n",
    "\n",
    "        x = self.dense_2(x)\n",
    "        x = self.batch_2(x)\n",
    "\n",
    "        x = self.dense_3(x)\n",
    "\n",
    "        return x\n",
    "\n",
    "lenet_sub_classed = LenetModel()\n",
    "lenet_sub_classed(tf.zeros([1, 224, 224, 3]))\n",
    "lenet_sub_classed.summary()"
   ]
  },
  {
   "attachments": {},
   "cell_type": "markdown",
   "metadata": {},
   "source": [
    "### Custom Layers"
   ]
  },
  {
   "cell_type": "code",
   "execution_count": null,
   "metadata": {},
   "outputs": [],
   "source": [
    "class CustomDense(Layer):\n",
    "    def __init__(self, output_units, activation):\n",
    "        super(CustomDense, self).__init__()\n",
    "        self.output_units = output_units\n",
    "        self.activation = activation\n",
    "    \n",
    "    def build(self, input_features_shape):\n",
    "        self.w = self.add_weight(shape=(input_features_shape[-1], self.output_units), initializer=\"random_normal\", trainable=True)\n",
    "        self.b = self.add_weight(shape=(self.output_units,), initializer=\"random_normal\", trainable=True)\n",
    "    \n",
    "    def call(self, input_features):\n",
    "        pre_output = tf.matmul(input_features, self.w) + self.b\n",
    "        \n",
    "        if self.activation == \"relu\":\n",
    "            return tf.nn.relu(pre_output)\n",
    "        elif self.activation == \"sigmoid\":\n",
    "            return tf.math.sigmoid(pre_output)\n",
    "        else:\n",
    "            return pre_output"
   ]
  },
  {
   "cell_type": "code",
   "execution_count": null,
   "metadata": {},
   "outputs": [],
   "source": [
    "lenet_custom_model = tf.keras.Sequential([\n",
    "    InputLayer(input_shape=(IM_SIZE, IM_SIZE, 3)),\n",
    "    Conv2D(filters=6, kernel_size=3, strides=1, padding='valid', activation=\"relu\"),\n",
    "    BatchNormalization(),\n",
    "    MaxPool2D(pool_size=2, strides=2),\n",
    "    Conv2D(filters=16, kernel_size=3, strides=1, padding='valid', activation=\"relu\"),\n",
    "    BatchNormalization(),\n",
    "    MaxPool2D(pool_size=2, strides=2),\n",
    "    Flatten(),\n",
    "    CustomDense(100, activation=\"relu\"),\n",
    "    BatchNormalization(),\n",
    "    CustomDense(10, activation=\"relu\"),\n",
    "    BatchNormalization(),\n",
    "    CustomDense(1, activation=\"sigmoid\")\n",
    "])\n",
    "\n",
    "lenet_custom_model.summary()"
   ]
  },
  {
   "attachments": {},
   "cell_type": "markdown",
   "metadata": {},
   "source": [
    "### WandB Model Versioning"
   ]
  },
  {
   "attachments": {},
   "cell_type": "markdown",
   "metadata": {},
   "source": [
    "#### Untrained Model Versioning"
   ]
  },
  {
   "cell_type": "code",
   "execution_count": null,
   "metadata": {},
   "outputs": [],
   "source": [
    "def log_model():\n",
    "    with wandb.init(project=\"Detection-de-la-Malaria\", entity=\"fredlicombeau\") as run:\n",
    "        untrained_model = wandb.Artifact(\n",
    "            name = \"Untrained_model\", \n",
    "            type=\"model\",\n",
    "            description = \"The initial version of our lenet model\",\n",
    "            metadata = CONFIGURATION\n",
    "        )\n",
    "        filename = 'lenet.h5'\n",
    "        lenet_model.save(filename)\n",
    "\n",
    "        untrained_model.add_file(filename)\n",
    "        wandb.save(filename)\n",
    "        run.log_artifact(untrained_model)"
   ]
  },
  {
   "cell_type": "code",
   "execution_count": null,
   "metadata": {},
   "outputs": [],
   "source": [
    "log_model()"
   ]
  },
  {
   "attachments": {},
   "cell_type": "markdown",
   "metadata": {},
   "source": [
    "#### Trained Model versioning"
   ]
  },
  {
   "cell_type": "code",
   "execution_count": null,
   "metadata": {},
   "outputs": [],
   "source": [
    "def train_and_log():\n",
    "    with wandb.init(project=\"Detection-de-la-Malaria\", entity=\"fredlicombeau\") as run:\n",
    "        artifact = run.use_artifact('fredlicombeau/Detection-de-la-Malaria/Augmented_dataset:v0', type='preprocessed_data')\n",
    "        artifact_dir = artifact.download()\n",
    "\n",
    "        trained_sequential_model = wandb.Artifact(\n",
    "            name = \"Trained_Sequential_model\", \n",
    "            type=\"model\",\n",
    "            description = \"A trained version of our model\",\n",
    "            metadata = CONFIGURATION,\n",
    "        )\n",
    "\n",
    "        artifact_file = \"artifacts/Augmented_dataset:v0/aug_dataset.npz\"\n",
    "            \n",
    "        dataset_x = []\n",
    "\n",
    "        with open(artifact_file, 'rb') as file:\n",
    "            npz_array = np.load(file, allow_pickle = True)\n",
    "            \n",
    "            arr = npz_array.f.arr_0\n",
    "\n",
    "            for im in arr[0]:\n",
    "                dataset_x.append(im)\n",
    "                dataset_y = arr[1]\n",
    "        \n",
    "\n",
    "        d_x = tf.convert_to_tensor(dataset_x, dtype = tf.float32)\n",
    "        d_y = tf.convert_to_tensor(dataset_y, dtype = tf.float32)\n",
    "\n",
    "        d = tf.data.Dataset.from_tensor_slices((d_x,d_y))\n",
    "\n",
    "        train_d = (\n",
    "            d\n",
    "            .shuffle(buffer_size = 1024, reshuffle_each_iteration = True)\n",
    "            .batch(BATCH_SIZE)\n",
    "            .prefetch(tf.data.AUTOTUNE)\n",
    "        )\n",
    "\n",
    "        artifact = run.use_artifact('fredlicombeau/Detection-de-la-Malaria/Untrained_model:v0', type='model')\n",
    "        artifact_dir = artifact.download()\n",
    "\n",
    "        artifact_file = \"artifacts/Untrained_model:v0/lenet.h5\"\n",
    "\n",
    "        lenet_model = tf.keras.models.load_model(artifact_file)\n",
    "\n",
    "        metrics = [TruePositives(name='tp'),FalsePositives(name='fp'), TrueNegatives(name='tn'), FalseNegatives(name='fn'), \n",
    "                    BinaryAccuracy(name='accuracy'), Precision(name='precision'), Recall(name='recall'), AUC(name='auc')]\n",
    "\n",
    "        lenet_model.compile(optimizer = Adam(learning_rate = CONFIGURATION['LEARNING_RATE']),\n",
    "            loss = BinaryCrossentropy(),\n",
    "            metrics = metrics)\n",
    "\n",
    "        lenet_model.fit(\n",
    "            train_d,\n",
    "            epochs = 3,\n",
    "            verbose = 1,\n",
    "            callbacks=[WandbCallback()],\n",
    "        )\n",
    "        \n",
    "        filename = 'lenet_trained.h5'\n",
    "        lenet_model.save(filename)\n",
    "\n",
    "        trained_sequential_model.add_file(filename)\n",
    "        wandb.save(filename)\n",
    "        run.log_artifact(trained_sequential_model)"
   ]
  },
  {
   "cell_type": "code",
   "execution_count": null,
   "metadata": {},
   "outputs": [],
   "source": [
    "train_and_log()"
   ]
  },
  {
   "attachments": {},
   "cell_type": "markdown",
   "metadata": {},
   "source": [
    "# Callbacks"
   ]
  },
  {
   "cell_type": "code",
   "execution_count": null,
   "metadata": {},
   "outputs": [],
   "source": [
    "class LossCallback(Callback):\n",
    "    def on_epoch(self, epoch, logs):\n",
    "        print(\"\\n For Epoch Number {} the model has a loss of {}\".format(epoch+1, logs[\"loss\"]))\n",
    "    def on_batch_end(self, batch, logs):\n",
    "        print(\"\\n For Epoch Number {} the model has a loss of {}\".format(batch+1, logs))"
   ]
  },
  {
   "cell_type": "code",
   "execution_count": null,
   "metadata": {},
   "outputs": [],
   "source": [
    "test_dataset = test_dataset.batch(1)"
   ]
  },
  {
   "cell_type": "code",
   "execution_count": null,
   "metadata": {},
   "outputs": [],
   "source": [
    "class LogImagesCallback(Callback):\n",
    "    def on_epoch_end(self, epoch, logs):\n",
    "        labels = []\n",
    "        inp = []\n",
    "\n",
    "        for x, y in test_dataset.as_numpy_iterator():\n",
    "            labels.append(y)\n",
    "            inp.append(x)\n",
    "\n",
    "        labels = np.array([i[0] for i in labels])\n",
    "        predicted = lenet_model.predict(np.array(inp)[:,0])\n",
    "\n",
    "        threshold = 0.5\n",
    "\n",
    "        cm = confusion_matrix(labels, predicted > threshold)\n",
    "        print(cm)\n",
    "\n",
    "        plt.figure(figsize=(8, 8))\n",
    "        sns.heatmap(cm, annot=True)\n",
    "        plt.title(f'Confusion matrix - {threshold}')\n",
    "        plt.ylabel('Actual')\n",
    "        plt.xlabel('Predicted')\n",
    "        plt.axis('off')\n",
    "\n",
    "        buffer = io.BytesIO()\n",
    "        plt.savefig(buffer, format='png')\n",
    "\n",
    "        image = tf.image.decode_png(buffer.getvalue(), channels=3)\n",
    "        image = tf.expand_dims(image, axis = 0)\n",
    "\n",
    "        CURRENT_TIME = datetime.datetime.now().strftime('%d%m%y - %H%M%S')\n",
    "        IMAGE_DIR = './logs/' + CURRENT_TIME + '/images'\n",
    "        image_writer = tf.summary.create_file_writer(IMAGE_DIR)\n",
    "\n",
    "        with image_writer.as_default():\n",
    "            tf.summary.image('Training data', image, step=epoch)"
   ]
  },
  {
   "cell_type": "code",
   "execution_count": null,
   "metadata": {},
   "outputs": [],
   "source": [
    "class LogImagesCallbackWandBPlot(Callback):\n",
    "    def on_epoch_end(self, epoch, logs):\n",
    "        labels = []\n",
    "        inp = []\n",
    "\n",
    "        for x, y in test_dataset.as_numpy_iterator():\n",
    "            labels.append(y)\n",
    "            inp.append(x)\n",
    "\n",
    "        labels = np.array([i[0] for i in labels])\n",
    "        predicted = lenet_model.predict(np.array(inp)[:,0,...])\n",
    "\n",
    "        print(\"labels\", labels, labels.dtype)\n",
    "        print(\"predicted\", predicted, predicted.dtype)\n",
    "\n",
    "        pred = []\n",
    "        for i in range(len(predicted)):\n",
    "            if predicted[i][0] < 0.5:\n",
    "                pred.append([1, 0])\n",
    "            else:\n",
    "                pred.append([0, 1])\n",
    "        pred = np.array(pred)\n",
    "        \n",
    "        # wandb.log({\"Confusion Matrix\": wandb.plot.confusion_matrix(probs=pred, y_true=labels, class_names=[\"Parasitized\", \"Uninfected\"])})\n",
    "        # wandb.log({\"ROC Curve\": roc_curve(y_true=labels, y_probas=pred, labels=[\"Parasitized\", \"Uninfected\"])})\n",
    "        wandb.log({\"Loss\": logs['loss']})"
   ]
  },
  {
   "cell_type": "code",
   "execution_count": null,
   "metadata": {},
   "outputs": [],
   "source": [
    "class LogImagesCallbackWandB(Callback):\n",
    "    def on_epoch_end(self, epoch, logs):\n",
    "        labels = []\n",
    "        inp = []\n",
    "\n",
    "        for x,y in test_dataset.as_numpy_iterator():\n",
    "            labels.append(y)\n",
    "            inp.append(x)\n",
    "            \n",
    "        labels = np.array([i[0] for i in labels])\n",
    "        predicted = lenet_model.predict(np.array(inp)[:,0,...])\n",
    "\n",
    "        threshold = 0.5\n",
    "\n",
    "        cm = confusion_matrix(labels, predicted > threshold)\n",
    "        \n",
    "        plt.figure(figsize=(8,8))\n",
    "\n",
    "        sns.heatmap(cm, annot=True,)\n",
    "        plt.title('Confusion matrix - {}'.format(threshold))\n",
    "        plt.ylabel('Actual')\n",
    "        plt.xlabel('Predicted')\n",
    "        plt.axis('off')\n",
    "\n",
    "        buffer = io.BytesIO()\n",
    "        plt.savefig(buffer, format = 'png')\n",
    "\n",
    "        image_array = tf.image.decode_png(buffer.getvalue(), channels=3)\n",
    "\n",
    "        images = wandb.Image(image_array, caption=\"Confusion Matrix for epoch: {}\".format(epoch))\n",
    "            \n",
    "        wandb.log({\"Confusion Matrix\": images})"
   ]
  },
  {
   "attachments": {},
   "cell_type": "markdown",
   "metadata": {},
   "source": [
    "### CSVLogger"
   ]
  },
  {
   "cell_type": "code",
   "execution_count": null,
   "metadata": {},
   "outputs": [],
   "source": [
    "csv_callback = CSVLogger('logs.csv', separator=',', append=True)"
   ]
  },
  {
   "attachments": {},
   "cell_type": "markdown",
   "metadata": {},
   "source": [
    "### EarlyStopping"
   ]
  },
  {
   "cell_type": "code",
   "execution_count": null,
   "metadata": {},
   "outputs": [],
   "source": [
    "es_callback = EarlyStopping(monitor='val_loss', min_delta=0, patience=2, verbose=1, mode='auto', baseline=None, restore_best_weights=False)"
   ]
  },
  {
   "attachments": {},
   "cell_type": "markdown",
   "metadata": {},
   "source": [
    "### Tensorboard"
   ]
  },
  {
   "cell_type": "code",
   "execution_count": null,
   "metadata": {},
   "outputs": [],
   "source": [
    "!rm -rf ./logs/"
   ]
  },
  {
   "cell_type": "code",
   "execution_count": null,
   "metadata": {},
   "outputs": [],
   "source": [
    "CURRENT_TIME = datetime.datetime.now().strftime('%d%m%y - %H%M%S')\n",
    "METRIC_DIR = './logs/' + CURRENT_TIME + '/metrics/'\n",
    "train_writer = tf.summary.create_file_writer(METRIC_DIR)"
   ]
  },
  {
   "cell_type": "code",
   "execution_count": null,
   "metadata": {},
   "outputs": [],
   "source": [
    "LOG_DIR = \"./logs/\" + CURRENT_TIME\n",
    "tensorboard_callback = tf.keras.callbacks.TensorBoard(log_dir=LOG_DIR, histogram_freq=1, profile_batch='100,132')"
   ]
  },
  {
   "attachments": {},
   "cell_type": "markdown",
   "metadata": {},
   "source": [
    "### LearningRateScheduler"
   ]
  },
  {
   "cell_type": "code",
   "execution_count": null,
   "metadata": {},
   "outputs": [],
   "source": [
    "def scheduler(epoch, lr):\n",
    "    if epoch <= 1:\n",
    "        learning_rate = lr\n",
    "    else:\n",
    "        learning_rate = lr * tf.math.exp(-0.1)\n",
    "        learning_rate = learning_rate.numpy()\n",
    "    \n",
    "    with train_writer.as_default():\n",
    "        tf.summary.scalar('Learning Rate', data=learning_rate, step=epoch)\n",
    "    return learning_rate\n",
    "    \n",
    "scheduler_callback = LearningRateScheduler(scheduler, verbose=1)"
   ]
  },
  {
   "attachments": {},
   "cell_type": "markdown",
   "metadata": {},
   "source": [
    "### ModelCheckpointing"
   ]
  },
  {
   "cell_type": "code",
   "execution_count": null,
   "metadata": {},
   "outputs": [],
   "source": [
    "checkpoint_callback = ModelCheckpoint('checkpoints/', monitor='val_loss', verbose=0, save_best_only=True, save_weights_only=False, mode='auto', save_freq=3)"
   ]
  },
  {
   "cell_type": "code",
   "execution_count": null,
   "metadata": {},
   "outputs": [],
   "source": [
    "checkpoint_callback = ModelCheckpoint('weights.{epoch:02d}-{val_loss:.2f}.hdf5', monitor='val_precision', verbose=0, save_best_only=True, save_weights_only=False, mode='auto', save_freq='epoch')"
   ]
  },
  {
   "attachments": {},
   "cell_type": "markdown",
   "metadata": {},
   "source": [
    "### ReduceLearningRateOnPlateau"
   ]
  },
  {
   "cell_type": "code",
   "execution_count": null,
   "metadata": {},
   "outputs": [],
   "source": [
    "plateau_callback = ReduceLROnPlateau(monitor='val_accuracy', factor=0.1, patience=2, verbose=1)"
   ]
  },
  {
   "attachments": {},
   "cell_type": "markdown",
   "metadata": {},
   "source": [
    "# Model Training"
   ]
  },
  {
   "cell_type": "code",
   "execution_count": null,
   "metadata": {},
   "outputs": [],
   "source": [
    "metrics = [TruePositives(name='tp'), FalsePositives(name='fp'), TrueNegatives(name='tn'), FalseNegatives(name='fn'),\n",
    "           BinaryAccuracy(name='accuracy'), Precision(name='precision'), Recall(name='recall'), AUC(name='auc')]\n",
    "FACTOR = 1\n",
    "LABELS = ['Parasitized', 'Uninfected']"
   ]
  },
  {
   "attachments": {},
   "cell_type": "markdown",
   "metadata": {},
   "source": [
    "## Custom Loss and Metrics"
   ]
  },
  {
   "attachments": {},
   "cell_type": "markdown",
   "metadata": {},
   "source": [
    "### Custom Loss Method (without parameters)"
   ]
  },
  {
   "cell_type": "code",
   "execution_count": null,
   "metadata": {},
   "outputs": [],
   "source": [
    "def custom_bce(y_true, y_pred):\n",
    "    bce = BinaryCrossentropy()\n",
    "    return bce(y_true, y_pred)"
   ]
  },
  {
   "attachments": {},
   "cell_type": "markdown",
   "metadata": {},
   "source": [
    "### Custom Loss Method (with parameters)"
   ]
  },
  {
   "cell_type": "code",
   "execution_count": null,
   "metadata": {},
   "outputs": [],
   "source": [
    "def custom_bce_f(FACTOR):\n",
    "    def loss(y_true, y_pred):\n",
    "        bce = BinaryCrossentropy()\n",
    "        return bce(y_true, y_pred) * FACTOR\n",
    "    return loss"
   ]
  },
  {
   "attachments": {},
   "cell_type": "markdown",
   "metadata": {},
   "source": [
    "### Custom Loss Class"
   ]
  },
  {
   "cell_type": "code",
   "execution_count": null,
   "metadata": {},
   "outputs": [],
   "source": [
    "class CustomBCE(tf.keras.losses.Loss):\n",
    "    def __init__(self, FACTOR):\n",
    "        super(CustomBCE, self).__init__()\n",
    "        self.FACTOR = FACTOR\n",
    "    \n",
    "    def call(self, y_true, y_pred):\n",
    "        bce = BinaryCrossentropy()\n",
    "        return bce(y_true, y_pred) * FACTOR"
   ]
  },
  {
   "attachments": {},
   "cell_type": "markdown",
   "metadata": {},
   "source": [
    "### Custom Metric Method (without parameters)"
   ]
  },
  {
   "cell_type": "code",
   "execution_count": null,
   "metadata": {},
   "outputs": [],
   "source": [
    "def custom_accuracy(y_true, y_pred):\n",
    "    return binary_accuracy(y_true, y_pred)"
   ]
  },
  {
   "attachments": {},
   "cell_type": "markdown",
   "metadata": {},
   "source": [
    "### Custom Metric Method (with parameters)"
   ]
  },
  {
   "cell_type": "code",
   "execution_count": null,
   "metadata": {},
   "outputs": [],
   "source": [
    "def custom_accuracy_f(FACTOR):\n",
    "    def metric(y_true, y_pred):\n",
    "        bce = BinaryCrossentropy()\n",
    "        return binary_accuracy(y_true, y_pred) * FACTOR\n",
    "    return metric"
   ]
  },
  {
   "attachments": {},
   "cell_type": "markdown",
   "metadata": {},
   "source": [
    "### Custom Metric Class"
   ]
  },
  {
   "cell_type": "code",
   "execution_count": null,
   "metadata": {},
   "outputs": [],
   "source": [
    "class CustomAccuracy(tf.keras.metrics.Metric):\n",
    "    def __init__(self, name='Custom_Accuracy', FACTOR=1):\n",
    "        super(CustomAccuracy, self).__init__()\n",
    "        self.FACTOR = FACTOR\n",
    "        self.accuracy = self.add_weight(name=name, initializer='zeros')\n",
    "    \n",
    "    def update_state(self, y_true, y_pred, sample_weight=None):\n",
    "        output = binary_accuracy(tf.cast(y_true, dtype=tf.float32), y_pred) * self.FACTOR\n",
    "        self.accuracy.assign(tf.math.count_nonzero(output, dtype=tf.float32)/tf.cast(len(output), dtype=tf.float32))\n",
    "\n",
    "    def result(self):\n",
    "        return self.accuracy\n",
    "    \n",
    "    def reset_state(self):\n",
    "        self.accuracy.assign(0.)"
   ]
  },
  {
   "attachments": {},
   "cell_type": "markdown",
   "metadata": {},
   "source": [
    "## Training"
   ]
  },
  {
   "cell_type": "code",
   "execution_count": null,
   "metadata": {},
   "outputs": [],
   "source": [
    "lenet_model.compile(optimizer=Adam(learning_rate=CONFIGURATION['LEARNING_RATE']),\n",
    "              loss=BinaryCrossentropy(), # loss=CustomBCE(FACTOR), # loss=custom_bce_f(FACTOR), # loss=custom_bce,\n",
    "              metrics=metrics) # metrics=CustomAccuracy()) # metrics=custom_accuracy_f(FACTOR)) # metrics='accuracy'\n",
    "# lenet_model # lenet_model_func # lenet_sub_classed"
   ]
  },
  {
   "cell_type": "code",
   "execution_count": null,
   "metadata": {},
   "outputs": [],
   "source": [
    "my_devices = tf.config.experimental.list_physical_devices(device_type='GPU')\n",
    "tf.config.experimental.set_visible_devices(devices= my_devices, device_type='GPU')"
   ]
  },
  {
   "cell_type": "code",
   "execution_count": null,
   "metadata": {},
   "outputs": [],
   "source": [
    "# history = lenet_model.fit(train_dataset, validation_data=val_dataset, epochs=30, verbose=1, callbacks=[WandbCallback()])\n",
    "# lenet_model # lenet_model_func # lenet_sub_classed # lenet_custom_model\n",
    "# LossCallback() # csv_callback # scheduler_callback # checkpoint_callback\n",
    "# , callbacks=[tensorboard_callback, scheduler_callback]) # , callbacks=[plateau_callback]) # , callbacks=[LogImagesCallback()]"
   ]
  },
  {
   "cell_type": "code",
   "execution_count": null,
   "metadata": {},
   "outputs": [],
   "source": [
    "history = lenet_model.fit(train_dataset,\n",
    "                          validation_data=val_dataset, \n",
    "                          epochs=3, \n",
    "                          # epochs=CONFIGURATION['N_EPOCHS'], \n",
    "                          verbose=1, \n",
    "                          callbacks=[LogImagesCallbackWandB()])\n",
    "                        #   callbacks=[WandbCallback(validation_data=val_dataset, label=LABELS, data_type='image')])"
   ]
  },
  {
   "cell_type": "code",
   "execution_count": 88,
   "metadata": {},
   "outputs": [],
   "source": [
    "wandb.finish()"
   ]
  },
  {
   "attachments": {},
   "cell_type": "markdown",
   "metadata": {},
   "source": [
    "### Hyperparameter Tuning"
   ]
  },
  {
   "cell_type": "code",
   "execution_count": null,
   "metadata": {},
   "outputs": [],
   "source": [
    "HP_NUM_UNITS_1 = hp.HParam('num_units_1', hp.Discrete([16, 32, 64, 128]))\n",
    "HP_NUM_UNITS_2 = hp.HParam('num_units_2', hp.Discrete([16, 32, 64, 128]))\n",
    "HP_DROPOUT = hp.HParam('dropout', hp.Discrete([0.1, 0.2, 0.3]))\n",
    "HP_REGULARIZATION_RATE = hp.HParam('regularization_rate', hp.Discrete([0.001, 0.01, 0.1]))\n",
    "HP_LEARNING_RATE = hp.HParam('learning_rate', hp.Discrete([1e-4, 1e-3]))"
   ]
  },
  {
   "cell_type": "code",
   "execution_count": null,
   "metadata": {},
   "outputs": [],
   "source": [
    "def model_tune(hparams):\n",
    "    lenet_model = tf.keras.Sequential([\n",
    "        InputLayer(input_shape = (IM_SIZE, IM_SIZE, 3)),\n",
    "        # InputLayer(input_shape=(None, None, 3)),\n",
    "\n",
    "        # resize_rescale_layers,\n",
    "        # augment_layers,\n",
    "\n",
    "        Conv2D(filters=6, kernel_size=3, strides=1, padding='valid', activation=\"relu\", kernel_regularizer=L2(hparams[HP_REGULARIZATION_RATE])),\n",
    "        BatchNormalization(),\n",
    "        MaxPool2D(pool_size=2, strides=2),\n",
    "        Dropout(rate=hparams[HP_DROPOUT]),\n",
    "\n",
    "        Conv2D(filters=16, kernel_size=3, strides=1, padding='valid', activation=\"relu\", kernel_regularizer=L2(hparams[HP_REGULARIZATION_RATE])),\n",
    "        BatchNormalization(),\n",
    "        MaxPool2D(pool_size=2, strides=2),\n",
    "\n",
    "        Flatten(),\n",
    "\n",
    "        Dense(hparams[HP_NUM_UNITS_1], activation=\"relu\", kernel_regularizer=L2(hparams[HP_REGULARIZATION_RATE])),\n",
    "        BatchNormalization(),\n",
    "        Dropout(rate=dropout_rate),\n",
    "\n",
    "        Dense(hparams[HP_NUM_UNITS_2], activation=\"relu\", kernel_regularizer=L2(hparams[HP_REGULARIZATION_RATE])),\n",
    "        BatchNormalization(),\n",
    "\n",
    "        Dense(1, activation=\"sigmoid\")\n",
    "    ])\n",
    "\n",
    "    lenet_model.compile(\n",
    "        optimizer=Adam(lr=hparams[HP_LEARNING_RATE]),\n",
    "        loss='binary_crossentropy',\n",
    "        metrics=['accuracy']\n",
    "    )\n",
    "\n",
    "    lenet_model.fit(val_dataset, epochs=1)\n",
    "    _, accuracy = lenet_model.evaluate(val_dataset)\n",
    "    return accuracy"
   ]
  },
  {
   "cell_type": "code",
   "execution_count": null,
   "metadata": {},
   "outputs": [],
   "source": [
    "run_number = 0\n",
    "for num_units_1 in HP_NUM_UNITS_1.domain.values:\n",
    "    for num_units_2 in HP_NUM_UNITS_2.domain.values:\n",
    "        for dropout_rate in HP_DROPOUT.domain.values:\n",
    "            for regularization_rate in HP_REGULARIZATION_RATE.domain.values:\n",
    "                for learning_rate in HP_LEARNING_RATE.domain.values:\n",
    "                    hparams = {\n",
    "                        HP_NUM_UNITS_1: num_units_1,\n",
    "                        HP_NUM_UNITS_2: num_units_2,\n",
    "                        HP_DROPOUT: dropout_rate,\n",
    "                        HP_REGULARIZATION_RATE: regularization_rate,\n",
    "                        HP_LEARNING_RATE: learning_rate,\n",
    "                    }\n",
    "                    file_writer = tf.summary.create_file_writer('logs/' + str(run_number))\n",
    "\n",
    "                    with file_writer.as_default():\n",
    "                        hp.hparams(hparams)\n",
    "                        accuracy = model_tune(hparams)\n",
    "                        tf.summary.scalar('accuracy', accuracy, step=0)\n",
    "\n",
    "                    print(f\"For the run {run_number}, hparams num_units_1:{hparams[HP_NUM_UNITS_1]}, num_units_2:{hparams[HP_NUM_UNITS_2]}, dropout:{hparams[HP_DROPOUT]}, regularization_rate:{hparams[HP_REGULARIZATION_RATE]}, learning_rate:{hparams[HP_LEARNING_RATE]}\")\n",
    "                    run_number += 1"
   ]
  },
  {
   "attachments": {},
   "cell_type": "markdown",
   "metadata": {},
   "source": [
    "### Hyperparameter Tuning with WandB"
   ]
  },
  {
   "cell_type": "code",
   "execution_count": null,
   "metadata": {},
   "outputs": [],
   "source": [
    "sweep_config = {\n",
    "    \"name\" : \"Malaria-Prediction-Sweep\",\n",
    "    \"method\" : \"random\",\n",
    "    \"metric\": {\n",
    "        \"name\" : \"accuracy\",\n",
    "        \"goal\" : \"maximize\",\n",
    "    },\n",
    "    \"parameters\" : {\n",
    "        \"IM_SIZE\": {\n",
    "            \"value\" : 224,\n",
    "        },\n",
    "        \"N_EPOCHS\": {\n",
    "            \"value\" : 1,\n",
    "        },\n",
    "        \"KERNEL_SIZE\": {\n",
    "            \"value\" : 3,\n",
    "        },\n",
    "        \"N_STRIDES\": {\n",
    "            \"value\" : 1,\n",
    "        },\n",
    "        \"POOL_SIZE\": {\n",
    "            \"value\" : 224,\n",
    "        },\n",
    "        \"N_FILTERS\" : {\n",
    "            \"value\" : 6,\n",
    "        },\n",
    "        \"N_DENSE_1\" : {\n",
    "        \"values\" : [16, 32, 64, 128]\n",
    "        },\n",
    "        \"N_DENSE_2\" : {\n",
    "        \"values\" : [16, 32, 64, 128]\n",
    "        },\n",
    "        \"DROPOUT_RATE\":{\n",
    "        \"min\": 0.1,\n",
    "        \"max\": 0.4\n",
    "        },\n",
    "        \"REGULARIZATION_RATE\" :{\n",
    "        \"distribution\": \"uniform\",\n",
    "        \"min\": 0.001,\n",
    "        \"max\": 0.1\n",
    "        },\n",
    "        \"LEARNING_RATE\" :{\n",
    "        \"distribution\": \"uniform\",\n",
    "        \"min\": 1e-4,\n",
    "        \"max\": 1e-2\n",
    "        }\n",
    "    },\n",
    "}\n",
    "\n",
    "sweep_id = wandb.sweep(sweep_config)"
   ]
  },
  {
   "cell_type": "code",
   "execution_count": null,
   "metadata": {},
   "outputs": [],
   "source": [
    "def model_tune(config):\n",
    "    lenet_model = tf.keras.Sequential([\n",
    "        InputLayer(input_shape = (224, 224, 3)),\n",
    "\n",
    "        Conv2D(filters = 6 , kernel_size = 3, strides = 1 , padding='valid',\n",
    "            activation = 'relu',kernel_regularizer = L2(config['REGULARIZATION_RATE'])),\n",
    "        BatchNormalization(),\n",
    "        MaxPool2D (pool_size = 1, strides= config['N_STRIDES']*2),\n",
    "        Dropout(rate = config['DROPOUT_RATE'] ),\n",
    "\n",
    "        Conv2D(filters = 16, kernel_size = 3, strides = 1, padding='valid',\n",
    "            activation = 'relu', kernel_regularizer = L2(config['REGULARIZATION_RATE'])),\n",
    "        BatchNormalization(),\n",
    "        MaxPool2D (pool_size = 1, strides= 2),\n",
    "\n",
    "        Flatten(),\n",
    "        \n",
    "        Dense(config['N_DENSE_1'], activation = \"relu\", kernel_regularizer = L2(config['REGULARIZATION_RATE'])),\n",
    "        BatchNormalization(),\n",
    "        Dropout(rate = DROPOUT_RATE),\n",
    "        \n",
    "        Dense(config['N_DENSE_2'], activation = \"relu\", kernel_regularizer = L2(config['REGULARIZATION_RATE'])),\n",
    "        BatchNormalization(),\n",
    "\n",
    "        Dense(1, activation = \"sigmoid\")\n",
    "    ])\n",
    "\n",
    "\n",
    "    return lenet_model"
   ]
  },
  {
   "cell_type": "code",
   "execution_count": null,
   "metadata": {},
   "outputs": [],
   "source": [
    "wandb.config = {\n",
    "    \"LEARNING_RATE\": 0.001,\n",
    "    \"N_EPOCHS\": 1,\n",
    "    \"BATCH_SIZE\": 128,\n",
    "    \"DROPOUT_RATE\": 0.0,\n",
    "    \"IM_SIZE\": 224,\n",
    "    \"REGULARIZATION_RATE\": 0.0,\n",
    "    \"N_FILTERS\": 6,\n",
    "    \"KERNEL_SIZE\": 3,\n",
    "    \"N_STRIDES\": 1,\n",
    "    \"POOL_SIZE\": 2,\n",
    "    \"N_DENSE_1\": 100,\n",
    "    \"N_DENSE_2\": 10,\n",
    "}\n",
    "CONFIGURATION = wandb.config"
   ]
  },
  {
   "cell_type": "code",
   "execution_count": null,
   "metadata": {},
   "outputs": [],
   "source": [
    "def train():\n",
    "    with wandb.init(project=\"Detection-de-la-Malaria\", entity=\"fredlicombeau\", config=CONFIGURATION) as run:\n",
    "        config = wandb.config\n",
    "        model = model_tune(config)\n",
    "        model.compile(\n",
    "            optimizer= Adam(learning_rate = config['LEARNING_RATE']),\n",
    "            loss='binary_crossentropy',\n",
    "            metrics=['accuracy'],\n",
    "        )\n",
    "        model.fit(val_dataset, epochs=2, callbacks = [WandbCallback()])\n",
    "        #wandb.log({\"loss\": loss, \"epoch\": epoch})\n",
    "\n",
    "count = 5 # number of runs to execute\n",
    "wandb.agent(sweep_id, function=train, count=count)"
   ]
  },
  {
   "attachments": {},
   "cell_type": "markdown",
   "metadata": {},
   "source": [
    "### Custom Training Loop"
   ]
  },
  {
   "cell_type": "code",
   "execution_count": null,
   "metadata": {},
   "outputs": [],
   "source": [
    "CURRENT_TIME = datetime.datetime.now().strftime('%d%m%y - %H%M%S')\n",
    "CUSTOM_TRAIN_DIR = './logs/' + CURRENT_TIME + '/custom/train'\n",
    "CUSTOM_VAL_DIR = './logs/' + CURRENT_TIME + '/custom/validation'\n",
    "custom_train_writer = tf.summary.create_file_writer(CUSTOM_TRAIN_DIR)\n",
    "custom_val_writer = tf.summary.create_file_writer(CUSTOM_VAL_DIR)"
   ]
  },
  {
   "cell_type": "code",
   "execution_count": null,
   "metadata": {},
   "outputs": [],
   "source": [
    "OPTIMIZER = Adam(learning_rate=0.01)\n",
    "METRIC = BinaryAccuracy()\n",
    "METRIC_VAL = BinaryAccuracy()\n",
    "EPOCHS = CONFIGURATION['N_EPOCHS']"
   ]
  },
  {
   "cell_type": "code",
   "execution_count": null,
   "metadata": {},
   "outputs": [],
   "source": [
    "@tf.function\n",
    "def training_block(x_batch, y_batch):\n",
    "    with tf.GradientTape() as recorder:\n",
    "        y_pred = lenet_model(x_batch, training=True)\n",
    "        loss = custom_bce(y_batch, y_pred)\n",
    "    \n",
    "    # wandb.log({'loss': loss.numpy()})\n",
    "\n",
    "    partial_derivatives = recorder.gradient(loss, lenet_model.trainable_weights)\n",
    "    OPTIMIZER.apply_gradients(zip(partial_derivatives, lenet_model.trainable_weights))\n",
    "    METRIC.update_state(y_batch, y_pred)\n",
    "\n",
    "    return loss\n",
    "\n",
    "@tf.function\n",
    "def val_block(x_batch_val, y_batch_val):\n",
    "    y_pred_val = lenet_model(x_batch_val, training=False)\n",
    "    loss_val = custom_bce(y_batch_val, y_pred_val)\n",
    "    METRIC_VAL.update_state(y_batch_val, y_pred_val)\n",
    "    \n",
    "    return loss_val"
   ]
  },
  {
   "cell_type": "code",
   "execution_count": null,
   "metadata": {},
   "outputs": [],
   "source": [
    "def train(model, loss_function, METRIC, METRIC_VAL, OPTIMIZER, train_dataset, val_dataset, EPOCHS):\n",
    "    for epoch in range(EPOCHS):\n",
    "        print(f\"Training starts for epoch number {epoch+1}\")\n",
    "        for step, (x_batch, y_batch) in enumerate(train_dataset):\n",
    "            loss = training_block(x_batch, y_batch)\n",
    "\n",
    "        print(\"Training loss\", loss)\n",
    "        print(\"The accuracy is: \", METRIC.result())\n",
    "        with custom_train_writer.as_default():\n",
    "            tf.summary.scalar('Training Loss', data=loss, step=epoch)\n",
    "        with custom_train_writer.as_default():\n",
    "            tf.summary.scalar('Training Accuracy', data=METRIC.result(), step=epoch)\n",
    "        METRIC.reset_states()\n",
    "\n",
    "        for (x_batch_val, y_batch_val) in val_dataset:\n",
    "            loss_val = val_block(x_batch_val, y_batch_val)\n",
    "            \n",
    "        print(\"Validation loss\", loss_val)\n",
    "        print(\"The Validation accuracy is: \", METRIC_VAL.result())\n",
    "        with custom_val_writer.as_default():\n",
    "            tf.summary.scalar('Validation Loss', data=loss_val, step=epoch)\n",
    "        with custom_val_writer.as_default():\n",
    "            tf.summary.scalar('Validation Accuracy', data=METRIC_VAL.result(), step=epoch)\n",
    "        METRIC_VAL.reset_states()"
   ]
  },
  {
   "cell_type": "code",
   "execution_count": null,
   "metadata": {},
   "outputs": [],
   "source": [
    "train(lenet_model, custom_bce, METRIC, METRIC_VAL, OPTIMIZER, train_dataset, val_dataset, EPOCHS)"
   ]
  },
  {
   "attachments": {},
   "cell_type": "markdown",
   "metadata": {},
   "source": [
    "### Visualization"
   ]
  },
  {
   "cell_type": "code",
   "execution_count": null,
   "metadata": {},
   "outputs": [],
   "source": [
    "%load_ext tensorboard"
   ]
  },
  {
   "cell_type": "code",
   "execution_count": null,
   "metadata": {},
   "outputs": [],
   "source": [
    "tensorboard --logdir=LOG_DIR"
   ]
  },
  {
   "cell_type": "code",
   "execution_count": null,
   "metadata": {},
   "outputs": [],
   "source": [
    "image = cv2.imread('cell.jpg')\n",
    "print(image.shape)\n",
    "image = tf.expand_dims(image, axis=0)\n",
    "print(image.shape)\n",
    "\n",
    "lenet_model.predict(image)"
   ]
  },
  {
   "cell_type": "code",
   "execution_count": null,
   "metadata": {},
   "outputs": [],
   "source": [
    "plt.plot(history.history['loss'])\n",
    "plt.plot(history.history['val_loss'])\n",
    "plt.title('Model loss')\n",
    "plt.ylabel('loss')\n",
    "plt.xlabel('epoch')\n",
    "plt.legend(['train_loss', 'val_loss'])\n",
    "plt.show()"
   ]
  },
  {
   "cell_type": "code",
   "execution_count": null,
   "metadata": {},
   "outputs": [],
   "source": [
    "plt.plot(history.history['accuracy'])\n",
    "plt.plot(history.history['val_accuracy'])\n",
    "plt.title('Model Accuracy')\n",
    "plt.ylabel('Accuracy')\n",
    "plt.xlabel('epoch')\n",
    "plt.legend(['train_accuracy', 'val_accuracy'])\n",
    "plt.show()"
   ]
  },
  {
   "attachments": {},
   "cell_type": "markdown",
   "metadata": {},
   "source": [
    "# Model Evaluation and Testing"
   ]
  },
  {
   "cell_type": "code",
   "execution_count": null,
   "metadata": {},
   "outputs": [],
   "source": [
    "test_dataset = test_dataset.batch(1)"
   ]
  },
  {
   "cell_type": "code",
   "execution_count": null,
   "metadata": {},
   "outputs": [],
   "source": [
    "test_dataset"
   ]
  },
  {
   "cell_type": "code",
   "execution_count": null,
   "metadata": {},
   "outputs": [],
   "source": [
    "lenet_model.evaluate(test_dataset)"
   ]
  },
  {
   "attachments": {},
   "cell_type": "markdown",
   "metadata": {},
   "source": [
    "## Visualizing Confusion Matrix"
   ]
  },
  {
   "cell_type": "code",
   "execution_count": null,
   "metadata": {},
   "outputs": [],
   "source": [
    "labels = []\n",
    "inp = []\n",
    "\n",
    "for x, y in test_dataset.as_numpy_iterator():\n",
    "    labels.append(y)\n",
    "    inp.append(x)\n",
    "\n",
    "labels = np.array([i[0] for i in labels])"
   ]
  },
  {
   "cell_type": "code",
   "execution_count": null,
   "metadata": {},
   "outputs": [],
   "source": [
    "labels"
   ]
  },
  {
   "cell_type": "code",
   "execution_count": null,
   "metadata": {},
   "outputs": [],
   "source": [
    "np.array(inp).shape"
   ]
  },
  {
   "cell_type": "code",
   "execution_count": null,
   "metadata": {},
   "outputs": [],
   "source": [
    "predicted = lenet_model.predict(np.array(inp)[:,0,...])\n",
    "predicted"
   ]
  },
  {
   "cell_type": "code",
   "execution_count": null,
   "metadata": {},
   "outputs": [],
   "source": [
    "threshold = 0.5\n",
    "\n",
    "cm = confusion_matrix(labels, predicted > threshold)\n",
    "print(cm)\n",
    "\n",
    "plt.figure(figsize=(5, 5))\n",
    "sns.heatmap(cm, annot=True)\n",
    "plt.title(f'Confusion matrix - {threshold}')\n",
    "plt.ylabel('Actual')\n",
    "plt.xlabel('Predicted')\n",
    "plt.axis('off')"
   ]
  },
  {
   "attachments": {},
   "cell_type": "markdown",
   "metadata": {},
   "source": [
    "## ROC Plots"
   ]
  },
  {
   "cell_type": "code",
   "execution_count": null,
   "metadata": {},
   "outputs": [],
   "source": [
    "fp, tp, thresholds = roc_curve(labels, predicted)\n",
    "\n",
    "plt.figure(figsize=(14, 14))\n",
    "plt.plot(fp, tp)\n",
    "plt.xlabel(\"False Positive rate\")\n",
    "plt.ylabel(\"True Positive rate\")\n",
    "\n",
    "plt.grid()\n",
    "skip = 20\n",
    "for i in range(0, len(thresholds), skip):\n",
    "    plt.text(fp[i], tp[i], thresholds[i])\n",
    "plt.show()"
   ]
  },
  {
   "cell_type": "code",
   "execution_count": null,
   "metadata": {},
   "outputs": [],
   "source": [
    "def parasite_or_not(x):\n",
    "    if x < 0.5:\n",
    "        return 'P'\n",
    "    return 'U'"
   ]
  },
  {
   "cell_type": "code",
   "execution_count": null,
   "metadata": {},
   "outputs": [],
   "source": [
    "parasite_or_not(lenet_model.predict(test_dataset.take(1))[0][0])"
   ]
  },
  {
   "cell_type": "code",
   "execution_count": null,
   "metadata": {},
   "outputs": [],
   "source": [
    "for i, (image, label) in enumerate(test_dataset.take(9)):\n",
    "    ax = plt.subplot(3, 3, i+1)\n",
    "    plt.imshow(image[0])\n",
    "    plt.title(str(parasite_or_not(label.numpy()[0])) + \" : \" + str(parasite_or_not(lenet_model.predict(image)[0][0])))\n",
    "\n",
    "    plt.axis('off')"
   ]
  },
  {
   "attachments": {},
   "cell_type": "markdown",
   "metadata": {},
   "source": [
    "# Loading and Saving"
   ]
  },
  {
   "cell_type": "code",
   "execution_count": null,
   "metadata": {},
   "outputs": [],
   "source": [
    "lenet_model.save(\"lenet\")"
   ]
  },
  {
   "cell_type": "code",
   "execution_count": null,
   "metadata": {},
   "outputs": [],
   "source": [
    "lenet_loaded_model = tf.keras.models.load_model(\"lenet\")\n",
    "lenet_loaded_model.summary()"
   ]
  },
  {
   "cell_type": "code",
   "execution_count": null,
   "metadata": {},
   "outputs": [],
   "source": [
    "test_dataset = test_dataset.batch(1)"
   ]
  },
  {
   "cell_type": "code",
   "execution_count": null,
   "metadata": {},
   "outputs": [],
   "source": [
    "lenet_loaded_model.evaluate(test_dataset)"
   ]
  },
  {
   "cell_type": "code",
   "execution_count": null,
   "metadata": {},
   "outputs": [],
   "source": [
    "lenet_model.save(\"lenet.hdf5\")"
   ]
  },
  {
   "cell_type": "code",
   "execution_count": null,
   "metadata": {},
   "outputs": [],
   "source": [
    "lenet_loaded_model = tf.keras.models.load_model(\"lenet.hdf5\")\n",
    "lenet_loaded_model.summary()"
   ]
  },
  {
   "cell_type": "code",
   "execution_count": null,
   "metadata": {},
   "outputs": [],
   "source": [
    "lenet_model.save_weights(\"weights/lenet_weights\")"
   ]
  },
  {
   "cell_type": "code",
   "execution_count": null,
   "metadata": {},
   "outputs": [],
   "source": [
    "lenet_weights_model = lenet_model.load_weights(\"weights/lenet_weights\")"
   ]
  },
  {
   "attachments": {},
   "cell_type": "markdown",
   "metadata": {},
   "source": [
    "## Saving and Loading from Google Drive"
   ]
  },
  {
   "cell_type": "code",
   "execution_count": null,
   "metadata": {},
   "outputs": [],
   "source": [
    "# from google.colab import drive\n",
    "# drive.mount('/content/drive')"
   ]
  },
  {
   "cell_type": "code",
   "execution_count": null,
   "metadata": {},
   "outputs": [],
   "source": [
    "# !cp -r /content/lenet/ /content/drive/MyDrive/lenet_colab/ "
   ]
  },
  {
   "cell_type": "code",
   "execution_count": null,
   "metadata": {},
   "outputs": [],
   "source": [
    "# !cp -r /content/drive/MyDrive/lenet_colab/ /content/lenet_colab/ "
   ]
  },
  {
   "cell_type": "code",
   "execution_count": null,
   "metadata": {},
   "outputs": [],
   "source": []
  }
 ],
 "metadata": {
  "kernelspec": {
   "display_name": "tensorflowgpu",
   "language": "python",
   "name": "python3"
  },
  "language_info": {
   "codemirror_mode": {
    "name": "ipython",
    "version": 3
   },
   "file_extension": ".py",
   "mimetype": "text/x-python",
   "name": "python",
   "nbconvert_exporter": "python",
   "pygments_lexer": "ipython3",
   "version": "3.10.11"
  }
 },
 "nbformat": 4,
 "nbformat_minor": 2
}
